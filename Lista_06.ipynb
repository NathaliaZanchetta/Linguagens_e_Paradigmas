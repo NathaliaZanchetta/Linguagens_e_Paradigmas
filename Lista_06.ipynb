{
 "cells": [
  {
   "cell_type": "markdown",
   "metadata": {},
   "source": [
    "1) Defina a função soma_nat que recebe como argumento um número natural n e devolve a soma de todos os números naturais até n."
   ]
  },
  {
   "cell_type": "code",
   "execution_count": 2,
   "metadata": {},
   "outputs": [
    {
     "name": "stdout",
     "output_type": "stream",
     "text": [
      "Número natural: 4\n",
      "10\n"
     ]
    }
   ],
   "source": [
    "\n",
    "def entrada():\n",
    "    while True:\n",
    "        n = int(input('Número natural: '))\n",
    "        if n < 0:\n",
    "            continue\n",
    "        else:\n",
    "            return n\n",
    "def soma_nat(n):\n",
    "    return 0 if n==0 else n+soma_nat(n-1)\n",
    "\n",
    "def run():\n",
    "    return soma_nat(entrada())\n",
    "\n",
    "print(run())"
   ]
  },
  {
   "cell_type": "markdown",
   "metadata": {},
   "source": [
    "2) Defina a função div que recebe como argumentos dois números naturais m e n e devolve o resultado da divisão inteira de m por n. Neste exercício você não pode recorrer às operações aritméticas de multiplicação, divisão e resto da divisão inteira."
   ]
  },
  {
   "cell_type": "code",
   "execution_count": 4,
   "metadata": {},
   "outputs": [
    {
     "name": "stdout",
     "output_type": "stream",
     "text": [
      "2\n"
     ]
    }
   ],
   "source": [
    "def div(m, n):\n",
    "    return 1 + div(m - n, n) if m >= n else 0\n",
    "print(div(4,2))"
   ]
  },
  {
   "cell_type": "markdown",
   "metadata": {},
   "source": [
    "3) Defina a função prim_alg que recebe como argumento um número natural e devolve o primeiro algarismo (o mais significativo) na representação decimal de n."
   ]
  },
  {
   "cell_type": "code",
   "execution_count": null,
   "metadata": {},
   "outputs": [],
   "source": []
  },
  {
   "cell_type": "markdown",
   "metadata": {},
   "source": [
    "4) Defina a função prod_lista que recebe como argumento uma lista de inteiros e devolve o produto dos seus elementos."
   ]
  },
  {
   "cell_type": "code",
   "execution_count": 5,
   "metadata": {},
   "outputs": [
    {
     "name": "stdout",
     "output_type": "stream",
     "text": [
      "2\n"
     ]
    }
   ],
   "source": [
    "def prod_lista(lista):\n",
    "    return lista[len(lista) - 1] * prod_lista(lista[:-1]) if len(lista) > 0 else 1\n",
    "print(prod_lista([1,2]))"
   ]
  },
  {
   "cell_type": "markdown",
   "metadata": {},
   "source": [
    "5) Defina a função contem_parQ que recebe como argumento uma lista de números inteiros w e devolve True se w contém um número par e False em caso contrário."
   ]
  },
  {
   "cell_type": "code",
   "execution_count": 6,
   "metadata": {},
   "outputs": [
    {
     "name": "stdout",
     "output_type": "stream",
     "text": [
      "True\n"
     ]
    }
   ],
   "source": [
    "def contem_parQ(lista):\n",
    "    response = False if len(lista) == 0 or (lista[len(lista) - 1] % 2 != 0 and not contem_parQ(lista[:-1])) else True\n",
    "    return response\n",
    "print(contem_parQ([1,2]))"
   ]
  },
  {
   "cell_type": "markdown",
   "metadata": {},
   "source": [
    "6) Defina a função todos_imparesQ que recebe como argumento uma lista de números inteiros w e devolve True se w contém apenas números ímpares e False em caso contrário."
   ]
  },
  {
   "cell_type": "code",
   "execution_count": 7,
   "metadata": {},
   "outputs": [
    {
     "name": "stdout",
     "output_type": "stream",
     "text": [
      "False\n"
     ]
    }
   ],
   "source": [
    "def todos_imparesQ(lista):\n",
    "    response = False\n",
    "    if len(lista) == 0 or (lista[len(lista) - 1] % 2 != 0 and todos_imparesQ(lista[:-1])):\n",
    "        response = True\n",
    "    return response\n",
    "print(todos_imparesQ([1,4,5]))"
   ]
  },
  {
   "cell_type": "markdown",
   "metadata": {},
   "source": [
    "7) Defina a função pertenceQ que recebe como argumentos uma lista de números inteiros w e um número inteiro n e devolve True se n ocorre em w e False em caso contrário."
   ]
  },
  {
   "cell_type": "code",
   "execution_count": 14,
   "metadata": {},
   "outputs": [],
   "source": [
    "def pertenceQ(lista):\n",
    "\n",
    "    for i in tamanhoLista:\n",
    "        lista = int(input(\"Preencha a lista : \"))\n",
    "    \n",
    "    if (n == lista[i]):\n",
    "        return True\n",
    "    else :\n",
    "        return False"
   ]
  },
  {
   "cell_type": "markdown",
   "metadata": {},
   "source": [
    "8) Defina a função junta que recebe como argumentos duas listas de números inteiros w1 e w2 e devolve a concatenação de w1 \n",
    "com w2 ."
   ]
  },
  {
   "cell_type": "code",
   "execution_count": 22,
   "metadata": {},
   "outputs": [
    {
     "name": "stdout",
     "output_type": "stream",
     "text": [
      "Tamanho da sua lista: 2\n",
      "valor lista 1: 1\n",
      "valor lista 1: 2\n",
      "valor lista 2: 3\n",
      "valor lista 2: 4\n",
      "[[1, 2], [3, 4]]\n"
     ]
    }
   ],
   "source": [
    "tamanhoLista = int(input(\"Tamanho da sua lista: \"))\n",
    "\n",
    "lista1 = []\n",
    "lista2 = []\n",
    "lista3 = []\n",
    "\n",
    "for i in range(0,tamanhoLista):\n",
    "    valores = int(input(\"valor lista 1: \"))\n",
    "    lista1.append(valores)\n",
    "    \n",
    "for j in range(0,tamanhoLista):\n",
    "    valores2 = int(input(\"valor lista 2: \"))\n",
    "    lista2.append(valores2)\n",
    "\n",
    "def junta(lista1, lista2):\n",
    "    lista3.append(lista1)\n",
    "    lista3.append(lista2)\n",
    "    \n",
    "    print(lista3)\n",
    "    \n",
    "junta(lista1, lista2)"
   ]
  },
  {
   "cell_type": "markdown",
   "metadata": {},
   "source": [
    "9) Defina a função temPrimoQ que recebe como argumento uma lista de listas de números inteiros w e devolve True se alguma das sublistas w tem um número primo e False em caso contrário."
   ]
  },
  {
   "cell_type": "code",
   "execution_count": 61,
   "metadata": {},
   "outputs": [
    {
     "name": "stdout",
     "output_type": "stream",
     "text": [
      "Múltiplo de 1\n",
      "Múltiplo de 2\n",
      "Tem 2  múltiplos acima de 2 e abaixo de 0\n",
      "Tem 2  múltiplos acima de 2 e abaixo de 1\n"
     ]
    }
   ],
   "source": [
    "def temPrimoQ():\n",
    "    \n",
    "    #count  = 0\n",
    "    mult   = 0\n",
    "    #tamanhoLista = int(input(\"Tamanho da sua lista: \"))\n",
    "    \n",
    "    lista1 = [1,2]\n",
    "    lista2 = [5,6]\n",
    "    lista3 = [lista1,lista2]\n",
    "\n",
    "    \"\"\"\n",
    "    for i in range(0,tamanhoLista):\n",
    "        valores = int(input(\"valor lista 1: \"))\n",
    "        lista1.append(valores)\n",
    "    \n",
    "    for j in range(0,tamanhoLista):\n",
    "        valores2 = int(input(\"valor lista 2: \"))\n",
    "        lista2.append(valores2)\n",
    "    \"\"\"\n",
    "        \n",
    "    for a in range(len(lista3)):\n",
    "        for b in lista3[a]:\n",
    "        \n",
    "            if(a % b == 0):\n",
    "                print(\"Múltiplo de\", b)\n",
    "                mult += 1\n",
    "\n",
    "        if(mult==0):\n",
    "            print(\"É primo\")\n",
    "        else:\n",
    "            print(\"Tem\",mult,\" múltiplos acima de 2 e abaixo de\",a)\n",
    "                \n",
    "                \n",
    "            #print(b)\n",
    "    \n",
    "temPrimoQ()"
   ]
  },
  {
   "cell_type": "code",
   "execution_count": null,
   "metadata": {},
   "outputs": [],
   "source": []
  }
 ],
 "metadata": {
  "kernelspec": {
   "display_name": "Python 3",
   "language": "python",
   "name": "python3"
  },
  "language_info": {
   "codemirror_mode": {
    "name": "ipython",
    "version": 3
   },
   "file_extension": ".py",
   "mimetype": "text/x-python",
   "name": "python",
   "nbconvert_exporter": "python",
   "pygments_lexer": "ipython3",
   "version": "3.7.3"
  }
 },
 "nbformat": 4,
 "nbformat_minor": 2
}
