{
 "cells": [
  {
   "cell_type": "markdown",
   "metadata": {},
   "source": [
    "# Nathalia Zanchetta Nhoncance RA: 8162258212"
   ]
  },
  {
   "cell_type": "markdown",
   "metadata": {},
   "source": [
    "\n",
    "1) Faça um Programa que peça dois números e imprima o maior deles."
   ]
  },
  {
   "cell_type": "code",
   "execution_count": 1,
   "metadata": {},
   "outputs": [
    {
     "name": "stdout",
     "output_type": "stream",
     "text": [
      "Entre com dois valores\n",
      "Primeiro valor: 8\n",
      "Segundo valor: 7\n",
      "8\n"
     ]
    }
   ],
   "source": [
    "print(\"Entre com dois valores\")\n",
    "\n",
    "valor1 = int(input(\"Primeiro valor: \"))\n",
    "valor2 = int(input(\"Segundo valor: \"))\n",
    "\n",
    "if(valor1 > valor2):\n",
    "    print(valor1)\n",
    "else:\n",
    "    print(valor2)"
   ]
  },
  {
   "cell_type": "markdown",
   "metadata": {},
   "source": [
    "2) Faça um Programa que verifique se uma letra digitada é vogal ou consoante."
   ]
  },
  {
   "cell_type": "code",
   "execution_count": 2,
   "metadata": {},
   "outputs": [
    {
     "name": "stdout",
     "output_type": "stream",
     "text": [
      "Digite uma letra : e\n",
      "A letra é e uma vogal\n"
     ]
    }
   ],
   "source": [
    "letra = input('Digite uma letra : ')\n",
    "\n",
    "if letra == 'a' or letra == 'e' or letra == 'i' or letra == 'o' or letra == 'u':\n",
    "    print (\"A letra é\", letra, \"uma vogal\")\n",
    "else:\n",
    "    print (\"A letra é\", letra, \"uma consoante\")"
   ]
  },
  {
   "cell_type": "markdown",
   "metadata": {},
   "source": [
    "3) Faça um programa para a leitura de duas notas parciais de um aluno. O programa deve calcular a média alcançada por aluno e apresentar:\n",
    "\n",
    "A mensagem \"Aprovado\", se a média alcançada for maior ou igual a sete;\n",
    "A mensagem \"Reprovado\", se a média for menor do que sete;\n",
    "A mensagem \"Aprovado com Distinção\", se a média for igual a dez."
   ]
  },
  {
   "cell_type": "code",
   "execution_count": 3,
   "metadata": {},
   "outputs": [
    {
     "name": "stdout",
     "output_type": "stream",
     "text": [
      "Primeira nota :8\n",
      "Segunda nota :7\n",
      "Aprovado\n"
     ]
    }
   ],
   "source": [
    "nota1 = int(input(\"Primeira nota :\"))\n",
    "nota2 = int(input(\"Segunda nota :\"))\n",
    "\n",
    "media = (nota1 + nota2)/2\n",
    "\n",
    "if(media == 10):\n",
    "    print(\"Aprovado com Distinção\")\n",
    "elif(media >= 7):\n",
    "    print(\"Aprovado\")\n",
    "else:\n",
    "    print(\"Reprovado\")"
   ]
  },
  {
   "cell_type": "markdown",
   "metadata": {},
   "source": [
    "4) Faça um Programa que leia três números e mostre-os em ordem decrescente."
   ]
  },
  {
   "cell_type": "code",
   "execution_count": 4,
   "metadata": {},
   "outputs": [
    {
     "name": "stdout",
     "output_type": "stream",
     "text": [
      "Primeiro :9\n",
      "Segundo  :11\n",
      "Terceiro :7\n",
      "11 9 7\n"
     ]
    }
   ],
   "source": [
    "num1 = int(input(\"Primeiro :\"))\n",
    "num2 = int(input(\"Segundo  :\"))\n",
    "num3 = int(input(\"Terceiro :\"))\n",
    "\n",
    "if  (num1 > num2) and (num2 > num3):\n",
    "    print(num1, num2, num3)\n",
    "elif(num1 > num3) and (num3 > num2):\n",
    "    print(num1, num3, num2)\n",
    "elif(num2 > num1) and (num1 > num3):\n",
    "    print(num2, num1, num3)\n",
    "elif(num2 > num3) and (num3 > num2):\n",
    "    print(num2, num3, num1)\n",
    "elif(num3 > num2) and (num2 > num1):\n",
    "    print(num3, num2, num1)\n",
    "elif(num3 > num1) and (num1 > num2):\n",
    "    print(num3, num1, num2)"
   ]
  },
  {
   "cell_type": "markdown",
   "metadata": {},
   "source": [
    "5) As Organizações Tabajara resolveram dar um aumento de salário aos seus colaboradores e lhe contrataram para desenvolver o programa que calculará os reajustes. Faça um programa que recebe o salário de um colaborador e o reajuste segundo o seguinte critério, baseado no salário atual:\n",
    "\n",
    "salários até R$ 280,00 (incluindo) : aumento de 20%\n",
    "salários entre R$ 280,00 e R$ 700,00 : aumento de 15%\n",
    "salários entre R$ 700,00 e R$ 1500,00 : aumento de 10%\n",
    "salários de R$ 1500,00 em diante : aumento de 5% Após o aumento ser realizado, informe na tela:\n",
    "o salário antes do reajuste;\n",
    "o percentual de aumento aplicado;\n",
    "o valor do aumento;\n",
    "o novo salário, após o aumento."
   ]
  },
  {
   "cell_type": "code",
   "execution_count": 5,
   "metadata": {},
   "outputs": [
    {
     "name": "stdout",
     "output_type": "stream",
     "text": [
      "Qual o valor do salario ? 1000\n",
      "O salário antes do reajuste -> 1000\n",
      "O percentual de aumento aplicado -> 10 %\n",
      "O valor do aumento -> 100.0\n",
      "O novo salário, após o aumento -> 1100.0\n"
     ]
    }
   ],
   "source": [
    "salario = int(input(\"Qual o valor do salario ? \"))\n",
    "salarioReajuste = 0\n",
    "porcentual = 0\n",
    "vlAumento = 0\n",
    "\n",
    "if(salario <= 280.00):\n",
    "    salarioReajuste = ((20/100) * salario) + salario\n",
    "    porcentual = 20\n",
    "    vlAumento = (salario/100)*20\n",
    "elif(salario > 280.00) and (salario <= 700.00):\n",
    "    salarioReajuste = ((15/100) * salario) + salario\n",
    "    porcentual = 15\n",
    "    vlAumento = (salario/100)*15\n",
    "elif(salario > 700.00) and (salario <= 1500.00):\n",
    "    salarioReajuste = ((10/100) * salario) + salario\n",
    "    porcentual = 10\n",
    "    vlAumento = (salario/100)*10\n",
    "elif(salario > 1500.00):\n",
    "    salarioReajuste = ((5/100) * salario) + salario\n",
    "    porcentual = 5\n",
    "    vlAumento = (salario/100)*5\n",
    "    \n",
    "print (\"O salário antes do reajuste ->\", salario)\n",
    "print (\"O percentual de aumento aplicado ->\", porcentual,\"%\")\n",
    "print (\"O valor do aumento ->\", vlAumento)\n",
    "print (\"O novo salário, após o aumento ->\", salarioReajuste)"
   ]
  },
  {
   "cell_type": "markdown",
   "metadata": {},
   "source": [
    "6) Faça um Programa que leia um número e exiba o dia correspondente da semana. (1-Domingo, 2- Segunda, etc.), se digitar outro valor deve aparecer valor inválido."
   ]
  },
  {
   "cell_type": "code",
   "execution_count": 6,
   "metadata": {},
   "outputs": [
    {
     "name": "stdout",
     "output_type": "stream",
     "text": [
      "Digite um número de (1 a 7): 5\n",
      "Dia não encontrando\n"
     ]
    }
   ],
   "source": [
    "dia_semana = int(input('Digite um número de (1 a 7): '))\n",
    "\n",
    "dicionario_diaSemana = {1: \"segunda\", 2: \"terça\", 3: \"quarta\", 4: \"quinta\", 5: \"sexta\", 6: \"sabado\", 7: \"domingo\"}\n",
    "    \n",
    "for dia in dicionario_diaSemana.keys():\n",
    "    if dia_semana == dia:\n",
    "        print('->',dicionario_diaSemana[dia].capitalize())\n",
    "        break\n",
    "    else:\n",
    "        print('Dia não encontrando')\n",
    "        break"
   ]
  },
  {
   "cell_type": "markdown",
   "metadata": {},
   "source": [
    "7) Faça um programa que lê as duas notas parciais obtidas por um aluno numa disciplina ao longo de um semestre, e calcule a sua média. A atribuição de conceitos obedece à tabela abaixo: Média de Aproveitamento Conceito Entre 9.0 e 10.0 A Entre 7.5 e 9.0 B Entre 6.0 e 7.5 C Entre 4.0 e 6.0 D Entre 4.0 e zero E O algoritmo deve mostrar na tela as notas, a média, o conceito correspondente e a mensagem “APROVADO” se o conceito for A, B ou C ou “REPROVADO” se o conceito for D ou E."
   ]
  },
  {
   "cell_type": "code",
   "execution_count": 7,
   "metadata": {},
   "outputs": [
    {
     "name": "stdout",
     "output_type": "stream",
     "text": [
      "Nome do aluno :nathalia\n",
      "Primeira nota :8.5\n",
      "Segunda nota :6.9\n",
      "Nome : nathalia\n",
      "Primeira nota : 8.5 \n",
      "Segunda nota: 6.9 \n",
      "Media 7.7\n",
      "Conceito : B Aprovado\n"
     ]
    }
   ],
   "source": [
    "nomeAluno = input(\"Nome do aluno :\")\n",
    "nota1 = float(input(\"Primeira nota :\"))\n",
    "nota2 = float(input(\"Segunda nota :\"))\n",
    "\n",
    "media = (nota1 + nota2)/2\n",
    "\n",
    "if(media == 10.0) and (media >= 9.0):\n",
    "    conceito = \"A\"\n",
    "elif(media < 9.0) and (media >= 7.5):\n",
    "    conceito = \"B\"\n",
    "elif(media < 7.5) and (media >= 6.0):\n",
    "    conceito = \"C\"\n",
    "elif(media < 6.0) and (media >= 4.0):\n",
    "    conceito = \"D\"\n",
    "elif(media < 4.0) and (media >= 0):\n",
    "    conceito = \"E\"\n",
    "    \n",
    "if(conceito == \"A\") or (conceito == \"B\") or (conceito == \"C\"):\n",
    "    print(\"Nome :\", nomeAluno)\n",
    "    print(\"Primeira nota :\", nota1, \"\\nSegunda nota:\", nota2, \"\\nMedia\", media)\n",
    "    print(\"Conceito :\", conceito, \"Aprovado\")\n",
    "elif(conceito == \"D\") or (conceito == \"E\"):\n",
    "    print(\"Nome :\", nomeAluno)\n",
    "    print(\"Primeira nota :\", nota1, \"\\nSegunda nota:\", nota2, \"\\nMedia\", media)\n",
    "    print(\"Conceito :\", conceito, \"Reprovado\")"
   ]
  },
  {
   "cell_type": "markdown",
   "metadata": {},
   "source": [
    "8) Faça um Programa que peça os 3 lados de um triângulo. O programa deverá informar se os valores podem ser um triângulo. Indique, caso os lados formem um triângulo, se o mesmo é: equilátero, isósceles ou escaleno.\n",
    "Dicas:\n",
    "- Três lados formam um triângulo quando a soma de quaisquer dois lados for maior que o terceiro;\n",
    "- Triângulo Equilátero: três lados iguais;\n",
    "- Triângulo Isósceles: quaisquer dois lados iguais;\n",
    "- Triângulo Escaleno: três lados diferentes;"
   ]
  },
  {
   "cell_type": "code",
   "execution_count": 12,
   "metadata": {},
   "outputs": [
    {
     "name": "stdout",
     "output_type": "stream",
     "text": [
      "Valor do lado A: 5\n",
      "Valor do lado B: 5\n",
      "Valor do lado C: 5\n",
      "É triangulo \n",
      "É um triangulo do tipo:  Equilátero\n"
     ]
    }
   ],
   "source": [
    "ladoA = float(input(\"Valor do lado A: \"))\n",
    "ladoB = float(input(\"Valor do lado B: \"))\n",
    "ladoC = float(input(\"Valor do lado C: \"))\n",
    "\n",
    "if( (ladoA + ladoB) > ladoC) or ( (ladoA + ladoC) > ladoB) or ( (ladoB + ladoC) > ladoA):\n",
    "    triangulo = \"É triangulo\"\n",
    "    if (ladoA == ladoB == ladoC):\n",
    "        tipoTriangulo = \"Equilátero\"\n",
    "    elif(ladoA == ladoB) or (ladoA == ladoC) or (ladoB == ladoC):\n",
    "        tipoTriangulo = \"Isósceles\"\n",
    "    elif(ladoA != ladoB != ladoC):\n",
    "        tipoTriangulo = \"Escaleno\"\n",
    "\n",
    "print(triangulo, \"\\nÉ um triangulo do tipo: \", tipoTriangulo)"
   ]
  },
  {
   "cell_type": "markdown",
   "metadata": {},
   "source": [
    "9) Faça um programa que calcule as raízes de uma equação do segundo grau, na forma ax2 + bx + c. O programa deverá pedir os valores de a, b e c e fazer as consistências, informando ao usuário nas seguintes situações:\n",
    "- Se o usuário informar o valor de A igual a zero, a equação não é do segundo grau e o programa não deve fazer pedir os demais valores, sendo encerrado;\n",
    "- Se o delta calculado for negativo, a equação não possui raizes reais. Informe ao usuário e encerre o programa;\n",
    "- Se o delta calculado for igual a zero a equação possui apenas uma raiz real; informe-a ao usuário;\n",
    "- Se o delta for positivo, a equação possui duas raiz reais; informe-as ao usuário;"
   ]
  },
  {
   "cell_type": "code",
   "execution_count": 21,
   "metadata": {},
   "outputs": [
    {
     "name": "stdout",
     "output_type": "stream",
     "text": [
      "Informe o valor de 'a' 1\n",
      "Informe o valor de 'b' 10\n",
      "Informe o valor de 'c' 2\n",
      "Existe duas raizes reais:  2.7416573867739413 e -4.741657386773941\n"
     ]
    }
   ],
   "source": [
    "import math\n",
    "\n",
    "valorA = float(input(\"Informe o valor de 'a' \"))\n",
    "\n",
    "if(valorA <= 0):\n",
    "    print(\"O valor de 'a' não é valido, logo não é uma equação de segundo grau\")\n",
    "else:\n",
    "    valorC = float(input(\"Informe o valor de 'b' \"))\n",
    "    valorC = float(input(\"Informe o valor de 'c' \"))\n",
    "    \n",
    "delta = ((valorB**2) - 4 * valorA * valorC)\n",
    "\n",
    "if(delta > 0):\n",
    "    raizDelta = math.sqrt(delta)\n",
    "    x1=(-valorC + raizDelta)/(2*valorA)\n",
    "    x2=(-valorC - raizDelta)/(2*valorA)\n",
    "    print(\"Existe duas raizes reais: \", x1, \"e\", x2)\n",
    "elif(delta == 0):\n",
    "    raizDelta = math.sqrt(delta)\n",
    "    x1=(-valorC + raizDelta)/(2*valorA)\n",
    "    print(\"Existe apenas uma raiz real: \", x1)\n",
    "elif(delta < 0):\n",
    "    print(\"A equação não possue raiz !!!\")\n"
   ]
  },
  {
   "cell_type": "markdown",
   "metadata": {},
   "source": [
    "10. Faça um Programa para um caixa eletrônico. O programa deverá perguntar ao usuário a valor do saque e depois informar quantas notas de cada valor serão fornecidas. As notas disponíveis serão as de 1, 5, 10, 50 e 100 reais. O valor mínimo é de 10 reais e o máximo de 600 reais. O programa não deve se preocupar com a quantidade de notas existentes na máquina.\n",
    "- Exemplo 1: Para sacar a quantia de 256 reais, o programa fornece duas notas de 100, uma nota de 50, uma nota de 5 e uma nota de 1;\n",
    "- Exemplo 2: Para sacar a quantia de 399 reais, o programa fornece três notas de 100, uma nota de 50, quatro notas de 10, uma nota de 5 e quatro notas de 1."
   ]
  },
  {
   "cell_type": "code",
   "execution_count": 29,
   "metadata": {},
   "outputs": [
    {
     "name": "stdout",
     "output_type": "stream",
     "text": [
      "Valor a sacar: 399\n",
      "Valor do saque 399.0\n",
      "Notas de 1  :  4.0 \n",
      "Notas de 5  :  1.0 \n",
      "Notas de 10 :  4.0 \n",
      "Notas de 50 :  1.0 \n",
      "Notas de 100:  3.0\n"
     ]
    }
   ],
   "source": [
    "valorSaque = float(input(\"Valor a sacar: \"))\n",
    "saqueTotal = valorSaque \n",
    "\n",
    "notas100 = valorSaque // 100 \n",
    "valorSaque -= notas100 * 100\n",
    "    \n",
    "notas50 = valorSaque // 50\n",
    "valorSaque -= notas50 * 50\n",
    "    \n",
    "notas10 = valorSaque // 10\n",
    "valorSaque -= notas10 * 10\n",
    "    \n",
    "notas5 = valorSaque // 5\n",
    "valorSaque -= notas5 * 5\n",
    "\n",
    "notas1 = valorSaque // 1\n",
    "valorSaque -= notas1 * 1\n",
    "\n",
    "print(\"Valor do saque\", saqueTotal)\n",
    "print( \"Notas de 1  : \",notas1, \"\\nNotas de 5  : \",notas5,\"\\nNotas de 10 : \", notas10, \"\\nNotas de 50 : \", notas50,\n",
    "      \"\\nNotas de 100: \", notas100)    "
   ]
  },
  {
   "cell_type": "markdown",
   "metadata": {},
   "source": [
    "11) Faça um programa que faça 5 perguntas para uma pessoa sobre um crime. As perguntas são:\n",
    "\"Telefonou para a vítima?\"\n",
    "\"Esteve no local do crime?\"\n",
    "\"Mora perto da vítima?\"\n",
    "\"Devia para a vítima?\"\n",
    "\"Já trabalhou com a vítima?\"\n",
    "O programa deve no final emitir uma classificação sobre a participação da pessoa no crime. Se a pessoa responder positivamente a 2 questões ela deve ser classificada como \"Suspeita\", entre 3 e 4 como \"Cúmplice\" e 5 como \"Assassino\". Caso contrário,\n",
    "ele será classificado como \"Inocente\"."
   ]
  },
  {
   "cell_type": "code",
   "execution_count": 31,
   "metadata": {},
   "outputs": [
    {
     "name": "stdout",
     "output_type": "stream",
     "text": [
      "Responda a seguir com 'sim' e 'não'\n",
      "Telefonou para a vítima?sim\n",
      "Esteve no local do crime?sim\n",
      "Mora perto da vítima?NÃO\n",
      "Devia para a vítima?SIM\n",
      "Já trabalhou com a vítima?SIM\n"
     ]
    }
   ],
   "source": [
    "print(\"Responda a seguir com 'sim' e 'não'\")\n",
    "\n",
    "pergunta1 = input(\"Telefonou para a vítima?\"  )\n",
    "pergunta2 = input(\"Esteve no local do crime?\" )\n",
    "pergunta3 = input(\"Mora perto da vítima?\"     )\n",
    "pergunta4 = input(\"Devia para a vítima?\"      )\n",
    "pergunta5 = input(\"Já trabalhou com a vítima?\")\n",
    "\n",
    "    \n"
   ]
  },
  {
   "cell_type": "markdown",
   "metadata": {},
   "source": [
    "12) Uma fruteira está vendendo frutas com a seguinte tabela de preços: \n",
    "           Até 5 Kg        Acima de 5 Kg\n",
    "Morango    R$ 2,50 por     Kg R$ 2,20 por Kg\n",
    "Maçã       R$ 1,80 por     Kg R$ 1,50 por Kg\n",
    "\n",
    "Se o cliente comprar mais de 8 Kg em frutas ou o valor total da compra ultrapassar\n",
    "R$ 25,00, receberá ainda um desconto de 10% sobre este total. Escreva um\n",
    "algoritmo para ler a quantidade (em Kg) de morangos e a quantidade (em Kg) de\n",
    "maças adquiridas e escreva o valor a ser pago pelo cliente."
   ]
  },
  {
   "cell_type": "code",
   "execution_count": 2,
   "metadata": {},
   "outputs": [
    {
     "name": "stdout",
     "output_type": "stream",
     "text": [
      "Quantidade em Kg : 4\n",
      "Morango ou Maçã ? Morango\n",
      "Kilos = 4.0 \n",
      "Tipo da futa : Morango \n",
      "Valor da compra = 10.0\n"
     ]
    }
   ],
   "source": [
    "kilo = float(input(\"Quantidade em Kg : \"))\n",
    "tipoFruta = input(\"Morango ou Maçã ? \")\n",
    "\n",
    "if(kilo <= 5.0):\n",
    "    if(tipoFruta == 'Morango'):\n",
    "        valor_compra = kilo * 2.50\n",
    "    else:\n",
    "        valor_compra = kilo * 1.80\n",
    "elif(kilo > 5.0):\n",
    "    if(tipoFruta == 'Morango'):\n",
    "        valor_compra = kilo * 2.20\n",
    "    else:\n",
    "        valor_compra = kilo * 1.50\n",
    "elif(kilo > 8.0) or (valor_compra > 25.00):\n",
    "    valor_compra =valor_compra * 0.9\n",
    "    \n",
    "print(\"Kilos =\", kilo, \"\\nTipo da futa :\", tipoFruta, \"\\nValor da compra =\", valor_compra)"
   ]
  },
  {
   "cell_type": "markdown",
   "metadata": {},
   "source": [
    "13) Faça um programa que peça uma nota, entre zero e dez. Mostre uma mensagem caso o valor seja inválido e continue pedindo até que o usuário informe um valor válido."
   ]
  },
  {
   "cell_type": "code",
   "execution_count": 5,
   "metadata": {},
   "outputs": [
    {
     "name": "stdout",
     "output_type": "stream",
     "text": [
      "Digite um número entre 0 e 10 : 12\n",
      "valor inválido, digite novamente\n",
      "Digite um número entre 0 e 10 : 5\n"
     ]
    }
   ],
   "source": [
    "nota = int(input(\"Digite um número entre 0 e 10 : \"))\n",
    "\n",
    "while (nota>10):\n",
    "    print(\"valor inválido, digite novamente\")\n",
    "    nota = int(input(\"Digite um número entre 0 e 10 : \"))"
   ]
  },
  {
   "cell_type": "markdown",
   "metadata": {},
   "source": [
    "13) Faça um programa que leia e valide as seguintes informações:\n",
    "Nome: maior que 3 caracteres;\n",
    "Idade: entre 0 e 150;\n",
    "Salário: maior que zero;\n",
    "Sexo: 'f' ou 'm';\n",
    "Estado Civil: 's', 'c', 'v', 'd';"
   ]
  },
  {
   "cell_type": "code",
   "execution_count": 7,
   "metadata": {},
   "outputs": [
    {
     "name": "stdout",
     "output_type": "stream",
     "text": [
      "Nome: Nathalia\n",
      "Idade: 18\n",
      "Salário: 1800\n",
      "Sexo: f\n",
      "Estado civil: c\n",
      "Tudo OK!\n"
     ]
    }
   ],
   "source": [
    "while(True):\n",
    "    nome        = input(\"Nome: \")\n",
    "    idade       = int(input(\"Idade: \"))\n",
    "    salario     = float(input(\"Salário: \"))\n",
    "    sexo        = input(\"Sexo: \")\n",
    "    estadoCivil = input(\"Estado civil: \")\n",
    "    \n",
    "    if(len(nome) > 3):\n",
    "        if(idade > 0 and idade <= 150):\n",
    "            if(salario > 0):   \n",
    "                if(sexo == \"f\" or sexo == \"F\" or sexo == \"m\" or sexo == \"M\"):\n",
    "                    if(estadoCivil == \"s\" or estadoCivil == \"c\" or estadoCivil == \"v\" or estadoCivil == \"d\"):\n",
    "                        print(\"Tudo OK!\")\n",
    "                        break\n",
    "                    else:\n",
    "                        print(\"Estado civil inválido!\")\n",
    "                else:\n",
    "                    print(\"Sexo inválido!\")\n",
    "            else:\n",
    "                print(\"Salário inválido!\")\n",
    "        else:\n",
    "            print(\"Idade inválida!\")\n",
    "    else:\n",
    "        print(\"Nome inválido!!\")"
   ]
  },
  {
   "cell_type": "markdown",
   "metadata": {},
   "source": [
    "14) Faça um programa que leia 5 números e informe o maior número."
   ]
  },
  {
   "cell_type": "code",
   "execution_count": 10,
   "metadata": {},
   "outputs": [
    {
     "name": "stdout",
     "output_type": "stream",
     "text": [
      "Digite o próximo número : 11\n",
      "Digite o próximo número : 7\n",
      "Digite o próximo número : 4\n",
      "Digite o próximo número : 2\n",
      "Digite o próximo número : 8\n",
      "O maior é :  11\n"
     ]
    }
   ],
   "source": [
    "maior = 0\n",
    "num   = 0\n",
    "\n",
    "for i in range (5):\n",
    "    num = int(input(\"Digite o próximo número : \"))\n",
    "    \n",
    "    if(num > maior):\n",
    "        maior = num\n",
    "        \n",
    "print(\"O maior é : \", maior)"
   ]
  },
  {
   "cell_type": "markdown",
   "metadata": {},
   "source": [
    "15. Faça um programa que leia 5 números e informe a soma e a média dos números."
   ]
  },
  {
   "cell_type": "code",
   "execution_count": 14,
   "metadata": {},
   "outputs": [
    {
     "name": "stdout",
     "output_type": "stream",
     "text": [
      "Digite o numero 1 3\n",
      "Digite o numero 2 5\n",
      "Digite o numero 3 6\n",
      "Digite o numero 4 3\n",
      "Digite o numero 5 2\n",
      "Media :  3.8\n",
      "Soma 19\n"
     ]
    }
   ],
   "source": [
    "soma = 0\n",
    "for i in range (1,6):\n",
    "    num  = int(input(\"Digite o numero %i \"%i))\n",
    "    soma = soma + num\n",
    "    \n",
    "media = soma/5\n",
    "print(\"Media : \", media)\n",
    "print(\"Soma\", soma)"
   ]
  },
  {
   "cell_type": "markdown",
   "metadata": {},
   "source": [
    "16) Faça um programa que imprima na tela apenas os números ímpares entre 1 e 50."
   ]
  },
  {
   "cell_type": "code",
   "execution_count": null,
   "metadata": {},
   "outputs": [],
   "source": [
    "iniciar = 'sim'\n",
    "while iniciar == 'sim':\n",
    "    n = int(input(\"Digite um número impar entre 1 e 50 : \"))\n",
    "    if n%2!=0 and n>=1 and n<=50:\n",
    "        print(n)\n",
    "    iniciar = input(\"vc deseja iniciar outro teste?\")"
   ]
  },
  {
   "cell_type": "markdown",
   "metadata": {},
   "source": [
    "17. Desenvolva um gerador de tabuada, capaz de gerar a tabuada de qualquer número inteiro entre 1 a 10. O usuário deve informar de qual numero ele deseja ver a tabuada. A saída deve ser conforme o exemplo abaixo:\n",
    "Tabuada de 5:\n",
    "5 X 1 = 5\n",
    "5 X 2 = 10\n",
    "...\n",
    "5 X 10 = 50"
   ]
  },
  {
   "cell_type": "code",
   "execution_count": 3,
   "metadata": {},
   "outputs": [
    {
     "name": "stdout",
     "output_type": "stream",
     "text": [
      "digite o numero ao qual tabuada pertence : 5\n",
      "5 x 1 = 5\n",
      "5 x 2 = 10\n",
      "5 x 3 = 15\n",
      "5 x 4 = 20\n",
      "5 x 5 = 25\n",
      "5 x 6 = 30\n",
      "5 x 7 = 35\n",
      "5 x 8 = 40\n",
      "5 x 9 = 45\n",
      "5 x 10 = 50\n"
     ]
    }
   ],
   "source": [
    "num = int(input(\"digite o numero ao qual tabuada pertence : \"))\n",
    "\n",
    "for i in range(1,11):\n",
    "    print(num,\"x %i\"%i,\"=\",num*i)\n"
   ]
  },
  {
   "cell_type": "markdown",
   "metadata": {},
   "source": [
    "18) A série de Fibonacci é formada pela seqüência 1,1,2,3,5,8,13,21,34,55,... Faça um programa capaz de gerar a série até o n−ésimo termo."
   ]
  },
  {
   "cell_type": "code",
   "execution_count": 5,
   "metadata": {},
   "outputs": [
    {
     "name": "stdout",
     "output_type": "stream",
     "text": [
      "digite o n-esimo termo da serie fibonacci :55\n",
      "139583862445\n"
     ]
    }
   ],
   "source": [
    "n1 = 1\n",
    "n2 = 1\n",
    "n3 = 0\n",
    "serie = int(input(\"digite o n-esimo termo da serie fibonacci :\"))\n",
    "\n",
    "for i in range(1,serie-1):\n",
    "    n3=n1+n2\n",
    "    n1=n3-n1\n",
    "    n2=n3\n",
    "    \n",
    "print(n3)"
   ]
  },
  {
   "cell_type": "markdown",
   "metadata": {},
   "source": [
    "19. Faça um programa que calcule o fatorial de um número inteiro fornecido pelo usuário. Ex.: 5!=5.4.3.2.1=120"
   ]
  },
  {
   "cell_type": "code",
   "execution_count": 6,
   "metadata": {},
   "outputs": [
    {
     "name": "stdout",
     "output_type": "stream",
     "text": [
      "Digite o numero para calcular o fatorial :7\n",
      "1\n"
     ]
    }
   ],
   "source": [
    "num = int(input(\"Digite o numero para calcular o fatorial :\"))\n",
    "cal = num\n",
    "fat = 1\n",
    "\n",
    "while (cal > 0):\n",
    "    fay = fat * cal\n",
    "    cal = cal - 1\n",
    "\n",
    "print(fat)"
   ]
  },
  {
   "cell_type": "markdown",
   "metadata": {},
   "source": [
    "20. O Sr. Manoel Joaquim possui uma grande loja de artigos de R$ 1,99, com cerca de 10 caixas. Para agilizar o cálculo de quanto cada cliente deve pagar ele desenvolveu um tabela que contém o número de itens que o cliente comprou e ao lado o valor da conta. Desta forma a atendente do caixa precisa apenas contar quantos itens o cliente está levando e olhar na tabela de preços. Você foi contratado para desenvolver o programa que monta esta tabela de preços, que conterá os preços de 1 até 50 produtos, conforme o exemplo abaixo:\n",
    "Lojas Quase Dois - Tabela de preços\n",
    "1 - R$ 1.99\n",
    "2 - R$ 3.98\n",
    "...\n",
    "50 - R$ 99.50"
   ]
  },
  {
   "cell_type": "code",
   "execution_count": 7,
   "metadata": {},
   "outputs": [
    {
     "name": "stdout",
     "output_type": "stream",
     "text": [
      "\n",
      "Lojas Quase Dois - Tabelas de preços\n",
      "\n",
      "01 - R$ 1.99\n",
      "02 - R$ 3.98\n",
      "03 - R$ 5.97\n",
      "04 - R$ 7.96\n",
      "05 - R$ 9.95\n",
      "06 - R$ 11.94\n",
      "07 - R$ 13.93\n",
      "08 - R$ 15.92\n",
      "09 - R$ 17.91\n",
      "10 - R$ 19.90\n",
      "11 - R$ 21.89\n",
      "12 - R$ 23.88\n",
      "13 - R$ 25.87\n",
      "14 - R$ 27.86\n",
      "15 - R$ 29.85\n",
      "16 - R$ 31.84\n",
      "17 - R$ 33.83\n",
      "18 - R$ 35.82\n",
      "19 - R$ 37.81\n",
      "20 - R$ 39.80\n",
      "21 - R$ 41.79\n",
      "22 - R$ 43.78\n",
      "23 - R$ 45.77\n",
      "24 - R$ 47.76\n",
      "25 - R$ 49.75\n",
      "26 - R$ 51.74\n",
      "27 - R$ 53.73\n",
      "28 - R$ 55.72\n",
      "29 - R$ 57.71\n",
      "30 - R$ 59.70\n",
      "31 - R$ 61.69\n",
      "32 - R$ 63.68\n",
      "33 - R$ 65.67\n",
      "34 - R$ 67.66\n",
      "35 - R$ 69.65\n",
      "36 - R$ 71.64\n",
      "37 - R$ 73.63\n",
      "38 - R$ 75.62\n",
      "39 - R$ 77.61\n",
      "40 - R$ 79.60\n",
      "41 - R$ 81.59\n",
      "42 - R$ 83.58\n",
      "43 - R$ 85.57\n",
      "44 - R$ 87.56\n",
      "45 - R$ 89.55\n",
      "46 - R$ 91.54\n",
      "47 - R$ 93.53\n",
      "48 - R$ 95.52\n",
      "49 - R$ 97.51\n",
      "50 - R$ 99.50\n"
     ]
    }
   ],
   "source": [
    "x = 1\n",
    "valor = 1.99\n",
    "\n",
    "print(\"\\nLojas Quase Dois - Tabelas de preços\\n\")\n",
    "\n",
    "while x <= 50:\n",
    "    print(\"%02.d - R$ %.2f\"%(x,x*valor))\n",
    "    x += 1"
   ]
  },
  {
   "cell_type": "markdown",
   "metadata": {},
   "source": [
    "21. O Sr. Manoel Joaquim acaba de adquirir uma panificadora e pretende implantar a metodologia da tabelinha, que já é um sucesso na sua loja de 1,99. Você foi contratado para desenvolver o programa que monta a tabela de preços de pães, de 1 até 50 pães, a partir do preço do pão informado pelo usuário, conforme o exemplo\n",
    "abaixo:\n",
    "Preço do pão: R$ 0.18\n",
    "Panificadora Pão de Ontem - Tabela de preços\n",
    "1 - R$ 0.18\n",
    "2 - R$ 0.36\n",
    "...\n",
    "50 - R$ 9.00"
   ]
  },
  {
   "cell_type": "code",
   "execution_count": null,
   "metadata": {},
   "outputs": [],
   "source": []
  }
 ],
 "metadata": {
  "kernelspec": {
   "display_name": "Python 3",
   "language": "python",
   "name": "python3"
  },
  "language_info": {
   "codemirror_mode": {
    "name": "ipython",
    "version": 3
   },
   "file_extension": ".py",
   "mimetype": "text/x-python",
   "name": "python",
   "nbconvert_exporter": "python",
   "pygments_lexer": "ipython3",
   "version": "3.7.1"
  }
 },
 "nbformat": 4,
 "nbformat_minor": 2
}
