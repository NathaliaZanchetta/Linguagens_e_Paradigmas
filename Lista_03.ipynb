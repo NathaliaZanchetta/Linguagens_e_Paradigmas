{
 "cells": [
  {
   "cell_type": "markdown",
   "metadata": {},
   "source": [
    "1) Faça um Programa que peça dois números e imprima o maior deles."
   ]
  },
  {
   "cell_type": "code",
   "execution_count": 1,
   "metadata": {},
   "outputs": [
    {
     "name": "stdout",
     "output_type": "stream",
     "text": [
      "Entre com dois valores\n",
      "Primeiro valor: 10\n",
      "Segundo valor: 5\n",
      "10\n"
     ]
    }
   ],
   "source": [
    "print(\"Entre com dois valores\")\n",
    "\n",
    "valor1 = int(input(\"Primeiro valor: \"))\n",
    "valor2 = int(input(\"Segundo valor: \"))\n",
    "\n",
    "if(valor1 > valor2):\n",
    "    print(valor1)\n",
    "else:\n",
    "    print(valor2)\n"
   ]
  },
  {
   "cell_type": "markdown",
   "metadata": {},
   "source": [
    "2) Faça um Programa que verifique se uma letra digitada é vogal ou consoante."
   ]
  },
  {
   "cell_type": "code",
   "execution_count": 4,
   "metadata": {},
   "outputs": [
    {
     "name": "stdout",
     "output_type": "stream",
     "text": [
      "Digite uma letra : b\n",
      "A letra é b uma consoante\n"
     ]
    }
   ],
   "source": [
    "letra = input('Digite uma letra : ')\n",
    "\n",
    "if letra == 'a' or letra == 'e' or letra == 'i' or letra == 'o' or letra == 'u':\n",
    "    print (\"A letra é\", letra, \"uma vogal\")\n",
    "else:\n",
    "    print (\"A letra é\", letra, \"uma consoante\")"
   ]
  },
  {
   "cell_type": "markdown",
   "metadata": {},
   "source": [
    "3) Faça um programa para a leitura de duas notas parciais de um aluno. O programa deve calcular a média alcançada por aluno e apresentar:\n",
    "- A mensagem \"Aprovado\", se a média alcançada for maior ou igual a sete;\n",
    "- A mensagem \"Reprovado\", se a média for menor do que sete;\n",
    "- A mensagem \"Aprovado com Distinção\", se a média for igual a dez."
   ]
  },
  {
   "cell_type": "code",
   "execution_count": 10,
   "metadata": {},
   "outputs": [
    {
     "name": "stdout",
     "output_type": "stream",
     "text": [
      "Primeira nota :8\n",
      "Segunda nota :7\n",
      "Aprovado\n"
     ]
    }
   ],
   "source": [
    "nota1 = int(input(\"Primeira nota :\"))\n",
    "nota2 = int(input(\"Segunda nota :\"))\n",
    "\n",
    "media = (nota1 + nota2)/2\n",
    "\n",
    "if(media == 10):\n",
    "    print(\"Aprovado com Distinção\")\n",
    "elif(media >= 7):\n",
    "    print(\"Aprovado\")\n",
    "else:\n",
    "    print(\"Reprovado\")"
   ]
  },
  {
   "cell_type": "markdown",
   "metadata": {},
   "source": [
    "4) Faça um Programa que leia três números e mostre-os em ordem decrescente."
   ]
  },
  {
   "cell_type": "code",
   "execution_count": 12,
   "metadata": {},
   "outputs": [
    {
     "name": "stdout",
     "output_type": "stream",
     "text": [
      "Primeiro :9\n",
      "Segundo  :5\n",
      "Terceiro :11\n",
      "11 9 5\n"
     ]
    }
   ],
   "source": [
    "num1 = int(input(\"Primeiro :\"))\n",
    "num2 = int(input(\"Segundo  :\"))\n",
    "num3 = int(input(\"Terceiro :\"))\n",
    "\n",
    "if  (num1 > num2) and (num2 > num3):\n",
    "    print(num1, num2, num3)\n",
    "elif(num1 > num3) and (num3 > num2):\n",
    "    print(num1, num3, num2)\n",
    "elif(num2 > num1) and (num1 > num3):\n",
    "    print(num2, num1, num3)\n",
    "elif(num2 > num3) and (num3 > num2):\n",
    "    print(num2, num3, num1)\n",
    "elif(num3 > num2) and (num2 > num1):\n",
    "    print(num3, num2, num1)\n",
    "elif(num3 > num1) and (num1 > num2):\n",
    "    print(num3, num1, num2)\n"
   ]
  },
  {
   "cell_type": "markdown",
   "metadata": {},
   "source": [
    "5) As Organizações Tabajara resolveram dar um aumento de salário aos seus colaboradores e lhe contrataram para desenvolver o programa que calculará os reajustes. Faça um programa que recebe o salário de um colaborador e o reajuste segundo o seguinte critério, baseado no salário atual:\n",
    "- salários até R$ 280,00 (incluindo) : aumento de 20%\n",
    "- salários entre R$ 280,00 e R$ 700,00 : aumento de 15%\n",
    "- salários entre R$ 700,00 e R$ 1500,00 : aumento de 10%\n",
    "- salários de R$ 1500,00 em diante : aumento de 5% Após o aumento ser realizado,\n",
    "informe na tela:\n",
    "- o salário antes do reajuste;\n",
    "- o percentual de aumento aplicado;\n",
    "- o valor do aumento;\n",
    "- o novo salário, após o aumento."
   ]
  },
  {
   "cell_type": "code",
   "execution_count": 13,
   "metadata": {},
   "outputs": [
    {
     "name": "stdout",
     "output_type": "stream",
     "text": [
      "Qual o valor do salario ?750\n",
      "O salário antes do reajuste -> 750\n",
      "O percentual de aumento aplicado 10 %\n",
      "O valor do aumento -> 75.0\n",
      "O novo salário, após o aumento -> 825.0\n"
     ]
    }
   ],
   "source": [
    "salario = int(input(\"Qual o valor do salario ? \"))\n",
    "salarioReajuste = 0\n",
    "porcentual = 0\n",
    "vlAumento = 0\n",
    "\n",
    "if(salario <= 280.00):\n",
    "    salarioReajuste = ((20/100) * salario) + salario\n",
    "    porcentual = 20\n",
    "    vlAumento = (salario/100)*20\n",
    "elif(salario > 280.00) and (salario <= 700.00):\n",
    "    salarioReajuste = ((15/100) * salario) + salario\n",
    "    porcentual = 15\n",
    "    vlAumento = (salario/100)*15\n",
    "elif(salario > 700.00) and (salario <= 1500.00):\n",
    "    salarioReajuste = ((10/100) * salario) + salario\n",
    "    porcentual = 10\n",
    "    vlAumento = (salario/100)*10\n",
    "elif(salario > 1500.00):\n",
    "    salarioReajuste = ((5/100) * salario) + salario\n",
    "    porcentual = 5\n",
    "    vlAumento = (salario/100)*5\n",
    "    \n",
    "print (\"O salário antes do reajuste ->\", salario)\n",
    "print (\"O percentual de aumento aplicado ->\", porcentual,\"%\")\n",
    "print (\"O valor do aumento ->\", vlAumento)\n",
    "print (\"O novo salário, após o aumento ->\", salarioReajuste)"
   ]
  },
  {
   "cell_type": "markdown",
   "metadata": {},
   "source": [
    "6) Faça um Programa que leia um número e exiba o dia correspondente da semana. \n",
    "(1-Domingo, 2- Segunda, etc.), se digitar outro valor deve aparecer valor inválido."
   ]
  },
  {
   "cell_type": "code",
   "execution_count": 24,
   "metadata": {},
   "outputs": [
    {
     "name": "stdout",
     "output_type": "stream",
     "text": [
      "Digite um número de (1 a 7): 4\n",
      "Dia não encontrando\n"
     ]
    }
   ],
   "source": [
    "dia_semana = int(input('Digite um número de (1 a 7): '))\n",
    "\n",
    "def dia_semana(dia_semana):\n",
    "    \n",
    "    dicionario_diaSemana = {1: 'segunda', 2: 'terça', 3: 'quarta', 4: 'quinta', 5: 'sexta', 6: 'sabado', 7: 'domingo'}\n",
    "    \n",
    "    for dia in dicionario_diaSemana.keys():\n",
    "        if dia_semana == dia:\n",
    "            print('->',dicionario_diaSemana[dia].capitalize())\n",
    "            break\n",
    "        else:\n",
    "            print('Dia não encontrando')\n",
    "            break\n",
    "            \n",
    "dia_semana(dia_semana)"
   ]
  },
  {
   "cell_type": "markdown",
   "metadata": {},
   "source": []
  }
 ],
 "metadata": {
  "kernelspec": {
   "display_name": "Python 3",
   "language": "python",
   "name": "python3"
  },
  "language_info": {
   "codemirror_mode": {
    "name": "ipython",
    "version": 3
   },
   "file_extension": ".py",
   "mimetype": "text/x-python",
   "name": "python",
   "nbconvert_exporter": "python",
   "pygments_lexer": "ipython3",
   "version": "3.7.1"
  }
 },
 "nbformat": 4,
 "nbformat_minor": 2
}
