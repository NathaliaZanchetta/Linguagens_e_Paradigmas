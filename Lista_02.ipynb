{
 "cells": [
  {
   "cell_type": "markdown",
   "metadata": {},
   "source": [
    "# Nathalia Zanchetta Nhoncance RA: 8162258212"
   ]
  },
  {
   "cell_type": "markdown",
   "metadata": {},
   "source": [
    "1) Crie um programa que recebe uma lista de números e\n",
    "- retorne o maior elemento\n",
    "- retorne a soma dos elementos\n",
    "- retorne o número de ocorrências do primeiro elemento da lista\n",
    "- retorne a média dos elementos\n",
    "- retorne o valor mais próximo da média dos elementos\n",
    "- retorne a soma dos elementos com valor negativo\n",
    "- retorne a quantidade de vizinhos iguais"
   ]
  },
  {
   "cell_type": "code",
   "execution_count": 22,
   "metadata": {},
   "outputs": [
    {
     "name": "stdout",
     "output_type": "stream",
     "text": [
      "Informe o tamanho da lista: 4\n",
      "Entre com um número: 3\n",
      "Entre com um número: 3\n",
      "Entre com um número: 2\n",
      "Entre com um número: 3\n",
      "O Maior valor é : 3\n",
      "Soma 11\n",
      "Ocorrencias 3\n",
      "Media : 2.75\n",
      "Número mais próximo da média:  1.75\n",
      "Soma dos elementos negativos:  0\n"
     ]
    }
   ],
   "source": [
    "tamanho = int(input(\"Informe o tamanho da lista: \"))\n",
    "lista =[]\n",
    "\n",
    "maior = 0\n",
    "soma  = 0\n",
    "numOcorrenciasPrimeiro = 0\n",
    "media = 0\n",
    "numProximo = 0\n",
    "somaNegativa = 0\n",
    "\n",
    "for num in range(0,tamanho):\n",
    "    #Entrada de valores\n",
    "    valores = int(input(\"Entre com um número: \"))\n",
    "    lista.append(valores)\n",
    "    \n",
    "    numOcorrenciasPrimeiro = lista.count(valores)\n",
    "    \n",
    "    if num < 0:\n",
    "        somaNegativa += num\n",
    "    \n",
    "soma = sum(lista)    \n",
    "media = soma / len(lista)\n",
    "numProximo = media - 1\n",
    "diferenca = media - num\n",
    "    \n",
    "print(\"O Maior valor é :\", max(int(num) for num in lista))\n",
    "print(\"Soma\", soma)\n",
    "print(\"Ocorrencias\", numOcorrenciasPrimeiro)\n",
    "print(\"Media :\", media)\n",
    "print(\"Número mais próximo da média: \", numProximo)\n",
    "print(\"Soma dos elementos negativos: \", somaNegativa)\n",
    "    \n",
    "    "
   ]
  },
  {
   "cell_type": "markdown",
   "metadata": {},
   "source": [
    "2) Faça um programa que receba duas listas e retorne True se são iguais ou False caso contrario. Duas listas são iguais se possuem os mesmos valores e na mesma ordem."
   ]
  },
  {
   "cell_type": "code",
   "execution_count": 24,
   "metadata": {},
   "outputs": [
    {
     "name": "stdout",
     "output_type": "stream",
     "text": [
      "Informe o tamanho da lista: 3\n",
      "Entre com os números da Lista 1 : 1\n",
      "Entre com os números da Lista 2 : 1\n",
      "Entre com os números da Lista 1 : 2\n",
      "Entre com os números da Lista 2 : 2\n",
      "Entre com os números da Lista 1 : 3\n",
      "Entre com os números da Lista 2 : 3\n",
      "True\n"
     ]
    }
   ],
   "source": [
    "tamanho = int(input(\"Informe o tamanho da lista: \"))\n",
    "lista1 = []\n",
    "lista2 = []\n",
    "\n",
    "for num in range(0,tamanho):\n",
    "   \n",
    "    #Entrada de valores\n",
    "    valores1 = int(input(\"Entre com os números da Lista 1 : \"))\n",
    "    lista1.append(valores1)\n",
    "    \n",
    "    valores2 = int(input(\"Entre com os números da Lista 2 : \"))\n",
    "    lista2.append(valores2)\n",
    "    \n",
    "if lista1[num] == lista2[num]:\n",
    "     print(\"True\")\n",
    "else:\n",
    "     print(\"False\")"
   ]
  },
  {
   "cell_type": "markdown",
   "metadata": {},
   "source": [
    "3) Faça um programa que receba duas listas e retorne True se têm os mesmos elementos ou False caso contrário. Duas listas possuem os mesmos elementos quando são compostas pelos mesmos valores, mas não obrigatoriamente na mesma ordem."
   ]
  },
  {
   "cell_type": "code",
   "execution_count": 7,
   "metadata": {},
   "outputs": [
    {
     "name": "stdout",
     "output_type": "stream",
     "text": [
      "Informe o tamanho da lista: 2\n",
      "Entre com os números da Lista 1 : 1\n",
      "Entre com os números da Lista 2 : 2\n",
      "Entre com os números da Lista 1 : 2\n",
      "Entre com os números da Lista 2 : 1\n",
      "As listas possuem mesmo conteúdo [1, 2] [1, 2]\n"
     ]
    }
   ],
   "source": [
    "tamanho = int(input(\"Informe o tamanho da lista: \"))\n",
    "lista1 = []\n",
    "lista2 = []\n",
    "\n",
    "for num in range(0,tamanho):\n",
    " \n",
    "    valores1 = int(input(\"Entre com os números da Lista 1 : \"))\n",
    "    lista1.append(valores1)\n",
    "    \n",
    "    valores2 = int(input(\"Entre com os números da Lista 2 : \"))\n",
    "    lista2.append(valores2) \n",
    "    \n",
    "    lista1.sort()\n",
    "    lista2.sort()\n",
    "    \n",
    "if len(lista1) == len(lista2):\n",
    "    for i in range(0,len(lista1)):\n",
    "        if lista1[i] == lista2[i]:\n",
    "            print(\"As listas possuem mesmo conteúdo\", lista1, lista2)\n",
    "            break\n",
    "        else:\n",
    "            print(\"As listas não possuem mesmo conteúdo\", lista1, lista2)\n",
    "            break"
   ]
  },
  {
   "cell_type": "markdown",
   "metadata": {},
   "source": [
    "4) Faça um programa que percorre uma lista com o seguinte formato: [['Brasil', 'Italia', [10, 9]], ['Brasil', 'Espanha', [5, 7]], ['Italia', 'Espanha', [7,8]]]. Essa lista indica o número de faltas que cada time fez em cada jogo. Na lista acima, no jogo entre Brasil e Itália, o Brasil fez 10 faltas e a Itália fez 9.\n",
    "- O programa deve imprimir na tela:\n",
    "- o total de faltas do campeonato\n",
    "- o time que fez mais faltas\n",
    "- o time que fez menos faltas"
   ]
  },
  {
   "cell_type": "code",
   "execution_count": 31,
   "metadata": {},
   "outputs": [
    {
     "name": "stdout",
     "output_type": "stream",
     "text": [
      " Total de falta =  39\n",
      "\n",
      " Maior quantidade de faltas =  Brasil 10\n",
      "\n",
      " Menor quantidade de faltas =  Brasil 2\n"
     ]
    }
   ],
   "source": [
    "time = [['Brasil', 'Italia', [10, 2]],['Brasil', 'Espanha', [5, 7]],['Italia', 'Espanha', [7,8]]]\n",
    "\n",
    "time_maior = time[0][0]\n",
    "maior = time[0][2][0]\n",
    "\n",
    "time_menor = time[0][0]\n",
    "menor = time[0][2][0]\n",
    "total = 0\n",
    "\n",
    "for i in range(len(time)):\n",
    "        for j in range(2):\n",
    "            total += time[i][2][j]\n",
    "            \n",
    "            if time[i][2][j]>maior:\n",
    "                maior = time[i][2][j]\n",
    "                time_maior = time[i][j]\n",
    "                    \n",
    "            if time[i][2][j]<menor:\n",
    "                menor = time[i][2][j]\n",
    "                time_menor = time[0][0]\n",
    "                \n",
    "print(' Total de falta = ', total)\n",
    "print('\\n Maior quantidade de faltas = ', time_maior, maior)\n",
    "print('\\n Menor quantidade de faltas = ', time_menor, menor)      \n"
   ]
  },
  {
   "cell_type": "markdown",
   "metadata": {},
   "source": [
    "5) Escreva um programa que conta a quantidade de vogais em uma string e armazena tal quantidade em um dicionário, onde a chave é a vogal considerada."
   ]
  },
  {
   "cell_type": "code",
   "execution_count": 8,
   "metadata": {},
   "outputs": [
    {
     "name": "stdout",
     "output_type": "stream",
     "text": [
      "Digite a palavra : nathalia\n",
      "Quantidade de A's: 3\n",
      "Quantidade de E's: 0\n",
      "Quantidade de I's: 1\n",
      "Quantidade de O's: 0\n",
      "Quantidade de U's: 0\n"
     ]
    }
   ],
   "source": [
    "palavra = input(\"Digite a palavra : \")\n",
    "dicionario = { \"a\": 0,\n",
    "               \"e\": 0,\n",
    "               \"i\": 0,\n",
    "               \"o\": 0,\n",
    "               \"u\": 0, }\n",
    "\n",
    "for letra in palavra:\n",
    "    if letra == \"a\":\n",
    "        dicionario[\"a\"] += 1\n",
    "    if letra == \"e\":\n",
    "        dicionario[\"e\"] += 1\n",
    "    if letra == \"i\":\n",
    "        dicionario[\"i\"] += 1\n",
    "    if letra == \"o\":\n",
    "        dicionario[\"o\"] += 1\n",
    "    if letra == \"u\":\n",
    "        dicionario[\"u\"] += 1\n",
    "        \n",
    "print(\"Quantidade de A's:\", dicionario[\"a\"])\n",
    "print(\"Quantidade de E's:\", dicionario[\"e\"])\n",
    "print(\"Quantidade de I's:\", dicionario[\"i\"])\n",
    "print(\"Quantidade de O's:\", dicionario[\"o\"])\n",
    "print(\"Quantidade de U's:\", dicionario[\"u\"])\n",
    "       \n"
   ]
  },
  {
   "cell_type": "markdown",
   "metadata": {},
   "source": [
    "6) Escreva um programa que lê̂ duas notas de vários alunos e armazena tais notas em um dicionário, onde a chave é o nome do aluno. A entrada de dados deve terminar quando for lida uma string vazia como nome. Escreva uma função que retorna a média do aluno, dado seu nome."
   ]
  },
  {
   "cell_type": "code",
   "execution_count": 9,
   "metadata": {},
   "outputs": [
    {
     "name": "stdout",
     "output_type": "stream",
     "text": [
      "Insira o nome do aluno: nathalia\n",
      "Insira a primeira nota: 3\n",
      "Insira a segunda nota: 8\n",
      "Insira o nome do aluno: gustavo\n",
      "Insira a primeira nota: 7\n",
      "Insira a segunda nota: 8\n",
      "Insira o nome do aluno: \n",
      "Insira o nome do aluno o qual deseja ver a média: gustavo\n"
     ]
    },
    {
     "data": {
      "text/plain": [
       "7.5"
      ]
     },
     "execution_count": 9,
     "metadata": {},
     "output_type": "execute_result"
    }
   ],
   "source": [
    "nome = input(\"Insira o nome do aluno: \")\n",
    "dicionario = {}\n",
    "\n",
    "while nome != \"\":\n",
    "    dicionario[nome] = [\n",
    "        float(input(\"Insira a primeira nota: \")),\n",
    "        float(input(\"Insira a segunda nota: \"))\n",
    "    ]\n",
    "    nome = input(\"Insira o nome do aluno: \")\n",
    "\n",
    "def media(nome):\n",
    "    return (dicionario[nome][0] + dicionario[nome][1]) / 2\n",
    "\n",
    "media(input(\"Insira o nome do aluno o qual deseja ver a média: \"))"
   ]
  },
  {
   "cell_type": "markdown",
   "metadata": {},
   "source": [
    "7) Uma pista de Kart permite 10 voltas para cada um de 6 corredores. Escreva um programa que leia todos os tempos em segundos e os guarde em um dicionário, onde a chave é o nome do corredor. Ao final diga de quem foi a melhor volta da prova e em que volta; e ainda a classificação final em ordem (1o o campeão). O campeão é o que tem a menor média de tempos."
   ]
  },
  {
   "cell_type": "code",
   "execution_count": 5,
   "metadata": {},
   "outputs": [
    {
     "name": "stdout",
     "output_type": "stream",
     "text": [
      "1° lugar: Batista - 59.9 segs.\n",
      "2° lugar: Jailson - 60.6 segs.\n",
      "3° lugar: Joao - 60.8 segs.\n",
      "4° lugar: Marcos - 61.2 segs.\n",
      "5° lugar: Roger - 61.6 segs.\n",
      "6° lugar: Rodolfo - 63.8 segs.\n"
     ]
    }
   ],
   "source": [
    "import operator\n",
    "\n",
    "dicionario = {  \"Jailson\": [57, 58, 60, 56, 64, 70, 59, 58, 69, 55],\n",
    "                \"Joao\"   : [56, 60, 72, 50, 67, 58, 61, 63, 62, 59],\n",
    "                \"Batista\": [79, 52, 58, 48, 58, 59, 61, 65, 59, 60],\n",
    "                \"Rodolfo\": [56, 50, 55, 70, 85, 73, 68, 65, 56, 60],\n",
    "                \"Marcos\" : [69, 55, 67, 50, 52, 53, 70, 75, 65, 56],\n",
    "                \"Roger\"  : [56, 63, 63, 65, 70, 59, 55, 60, 63, 62] }\n",
    "\n",
    "volta = 0\n",
    "medias = dicionario\n",
    "nome = \"\"\n",
    "melhorVolta = dicionario[\"Jailson\"][0]\n",
    "\n",
    "for chave in dicionario:\n",
    "    soma = 0\n",
    "    for num in dicionario[chave]:\n",
    "        if num < melhorVolta:\n",
    "            melhorVolta = num\n",
    "            nome = chave\n",
    "        soma += num\n",
    "    medias[chave] = soma / 10\n",
    "\n",
    "sort = sorted(medias.items(), key=operator.itemgetter(1))\n",
    "\n",
    "for i in range(0, 6):\n",
    "    print(\"%s° lugar: %s - %s segs.\" % (i + 1, sort[i][0], sort[i][1]))"
   ]
  },
  {
   "cell_type": "markdown",
   "metadata": {},
   "source": [
    "8) Escreva um programa para armazenar uma agenda de telefones em um dicionário. Cada pessoa pode ter um ou mais telefones e a chave do dicionário é o nome da pessoa. Seu programa deve ter as seguintes funções:\n",
    "- incluirNovoNome – essa função acrescenta um novo nome na agenda, com um ou mais telefones. Ela deve receber como argumentos o nome e os telefones.\n",
    "- incluirTelefone – essa função acrescenta um telefone em um nome existente na agenda. Caso o nome não exista na agenda, você̂ deve perguntar se a pessoa deseja inclui-lo. Caso a resposta seja afirmativa, use a função anterior para incluir o novo nome.\n",
    "- excluirTelefone – essa função exclui um telefone de uma pessoa que já está na agenda. Se a pessoa tiver apenas um telefone, ela deve ser excluída da agenda.\n",
    "- excluirNome – essa função exclui uma pessoa da agenda.\n",
    "- consultarTelefone – essa função retorna os telefones de uma pessoa na agenda."
   ]
  },
  {
   "cell_type": "code",
   "execution_count": null,
   "metadata": {},
   "outputs": [],
   "source": [
    "agenda = {}\n",
    "\n",
    "def incluirNovoNome(nome, telefones):\n",
    "    global agenda\n",
    "    agenda[nome] = telefones\n",
    "    \n",
    "def incluirTelefone(nome, telefone):\n",
    "    global agenda\n",
    "    if nome in agenda.keys():\n",
    "        agenda[nome].append(telefone)\n",
    "    else:\n",
    "        if input(\"Essa pessoa não existe, incluir ela na agenda (s/n)? \") == \"s\":\n",
    "            telefones = [telefone]\n",
    "            incluirNovoNome(nome, telefones)\n",
    "            \n",
    "def excluirTelefone(nome, telefone):\n",
    "    global agenda\n",
    "    if nome in agenda.keys():\n",
    "        if len(agenda[nome]) == 1:\n",
    "            del agenda[nome]\n",
    "        else:\n",
    "            for num in range(0, len(agenda[nome]) - 1):\n",
    "                if telefone == agenda[nome][num]:\n",
    "                    agenda[nome].pop(num)\n",
    "        \n",
    "def consultarTelefone(nome):\n",
    "    global agenda\n",
    "    if nome in agenda.keys():\n",
    "        print(agenda[nome])\n",
    "    \n",
    "opcao = -1\n",
    "while opcao != 0:\n",
    "    opcao = int(input(\"\\nEscolha uma opção: \\n1 - Incluir Novo Nome\\n2 - Incluir Telefone\\n3 - Excluir Telefone\\n4 - Consultar Agenda\\n0 - Encerrar Programa\\n\"))\n",
    "    \n",
    "    # INSERIR NOVO NOME\n",
    "    if opcao == 1:\n",
    "        nome = input(\"Insira o nome da pessoa: \")\n",
    "        telefones = []\n",
    "        telefones.append(int(input(\"Insira um telefone da pessoa: \")))\n",
    "        telefone = -1\n",
    "        while telefone != 0:\n",
    "            telefone = int(input(\"Inserir outro telefone (ou digite 0 para parar): \"))\n",
    "            if telefone != 0:\n",
    "                telefones.append(telefone)\n",
    "        incluirNovoNome(nome, telefones)\n",
    "    # INCLUIR TELEFONE\n",
    "    elif opcao == 2:\n",
    "        nome = input(\"Insira o nome da pessoa: \")\n",
    "        telefone = int(input(\"Insira um novo telefone da pessoa: \"))\n",
    "        incluirTelefone(nome, telefone)\n",
    "    # EXCLUIR TELEFONE\n",
    "    elif opcao == 3:\n",
    "        nome = input(\"Insira o nome da pessoa: \")\n",
    "        telefone = int(input(\"Insira o telefone da pessoa a qual deseja excluir: \"))\n",
    "        excluirTelefone(nome, telefone)\n",
    "    elif opcao == 4:\n",
    "        consultarTelefone(input(\"Insira o nome da pessoa: \"))"
   ]
  },
  {
   "cell_type": "markdown",
   "metadata": {},
   "source": [
    "9) Faça um programa que leia um arquivo texto contendo uma lista de endereços IP e gere um outro arquivo, contendo um relatório dos endereços IP válidos e inválidos. O arquivo de entrada possui o seguinte formato:\n",
    "\n",
    "200.135.80.9\n",
    "192.168.1.1\n",
    "8.35.67.74\n",
    "257.32.4.5\n",
    "85.345.1.2\n",
    "1.2.3.4\n",
    "9.8.234.5\n",
    "192.168.0.256\n",
    "\n",
    "O arquivo de saída possui o seguinte formato:\n",
    "\n",
    "[Endereços válidos:]\n",
    "200.135.80.9\n",
    "192.168.1.1\n",
    "8.35.67.74\n",
    "1.2.3.4\n",
    "\n",
    "[Endereços inválidos:]\n",
    "257.32.4.5\n",
    "85.345.1.2\n",
    "9.8.234.5\n",
    "192.168.0.256"
   ]
  },
  {
   "cell_type": "code",
   "execution_count": 11,
   "metadata": {},
   "outputs": [],
   "source": [
    "import socket\n",
    "\n",
    "ipsValidos = []\n",
    "ipsInvalidos = []\n",
    "\n",
    "ips = open(\"ips.txt\")\n",
    "for ip in ips:\n",
    "    try:\n",
    "        socket.inet_aton(ip)\n",
    "        # Validos\n",
    "        ipsValidos.append(ip)\n",
    "    except socket.error:\n",
    "        # Invalidos\n",
    "        ipsInvalidos.append(ip)\n",
    "        \n",
    "ips.close()\n",
    "\n",
    "saida = open(\"ipsvalidados.txt\", \"w+\")\n",
    "\n",
    "saida.write(\"[Endereços válidos:]\\n\")\n",
    "for ip in ipsValidos:\n",
    "    saida.write(ip)\n",
    "    \n",
    "saida.write(\"[Endereços inválidos:]\\n\")\n",
    "for ip in ipsInvalidos:\n",
    "    saida.write(ip)\n",
    "    \n",
    "saida.close()"
   ]
  },
  {
   "cell_type": "markdown",
   "metadata": {},
   "source": [
    "10) A ACME Inc., uma empresa de 500 funcionários, está tendo problemas de espaço em disco no seu servidor de arquivos. Para tentar resolver este problema, o Administrador de Rede precisa saber qual o espaço ocupado pelos usuários, e identificar os usuários com maior espaço ocupado. Através de um programa, baixado da Internet, ele conseguiu gerar o seguinte arquivo, chamado \"usuarios.txt\":\n",
    "\n",
    "alexandre 456123789\n",
    "anderson 1245698456\n",
    "antonio 123456456\n",
    "carlos 91257581\n",
    "cesar 987458\n",
    "rosemary 789456125\n",
    "\n",
    "Neste arquivo, o nome do usuário possui 15 caracteres. A partir deste arquivo, você deve criar um programa que gere um relatório, chamado \"relatório.txt\", no seguinte formato:\n",
    "\n",
    "ACME Inc. Uso do espaço em disco pelos usuários\n",
    "--------------------------------------------------------------\n",
    "----------\n",
    "Nr. Usuário Espaço utilizado % do uso\n",
    "1 alexandre 434,99 MB 16,85%\n",
    "2 anderson 1187,99 MB 46,02%\n",
    "3 antonio 117,73 MB 4,56%\n",
    "4 carlos 87,03 MB 3,37%\n",
    "5 cesar 0,94 MB 0,04%\n",
    "6 rosemary 752,88 MB 29,16%\n",
    "Espaço total ocupado: 2581,57 MB\n",
    "Espaço médio ocupado: 430,26 MB\n",
    "\n",
    "O arquivo de entrada deve ser lido uma única vez, e os dados armazenados em memória, caso sejam necessários, de forma a agilizar a execução do programa. A conversão da espaço ocupado em disco, de bytes para megabytes deverá ser feita através de uma função separada, que será chamada pelo programa principal. O cálculo do percentual de uso também deverá ser feito através de uma função, que será chamada pelo programa principal."
   ]
  },
  {
   "cell_type": "code",
   "execution_count": 12,
   "metadata": {},
   "outputs": [
    {
     "ename": "FileNotFoundError",
     "evalue": "[Errno 2] No such file or directory: 'usuarios.txt'",
     "output_type": "error",
     "traceback": [
      "\u001b[1;31m---------------------------------------------------------------------------\u001b[0m",
      "\u001b[1;31mFileNotFoundError\u001b[0m                         Traceback (most recent call last)",
      "\u001b[1;32m<ipython-input-12-2f5b92ad5be6>\u001b[0m in \u001b[0;36m<module>\u001b[1;34m\u001b[0m\n\u001b[0;32m      7\u001b[0m \u001b[0mdic\u001b[0m \u001b[1;33m=\u001b[0m \u001b[1;33m{\u001b[0m\u001b[1;33m}\u001b[0m\u001b[1;33m\u001b[0m\u001b[1;33m\u001b[0m\u001b[0m\n\u001b[0;32m      8\u001b[0m \u001b[0mtotal\u001b[0m \u001b[1;33m=\u001b[0m \u001b[1;36m0\u001b[0m\u001b[1;33m\u001b[0m\u001b[1;33m\u001b[0m\u001b[0m\n\u001b[1;32m----> 9\u001b[1;33m \u001b[0musuarios\u001b[0m \u001b[1;33m=\u001b[0m \u001b[0mopen\u001b[0m\u001b[1;33m(\u001b[0m\u001b[1;34m\"usuarios.txt\"\u001b[0m\u001b[1;33m)\u001b[0m\u001b[1;33m\u001b[0m\u001b[1;33m\u001b[0m\u001b[0m\n\u001b[0m\u001b[0;32m     10\u001b[0m \u001b[1;32mfor\u001b[0m \u001b[0musuario\u001b[0m \u001b[1;32min\u001b[0m \u001b[0musuarios\u001b[0m\u001b[1;33m:\u001b[0m\u001b[1;33m\u001b[0m\u001b[1;33m\u001b[0m\u001b[0m\n\u001b[0;32m     11\u001b[0m     \u001b[0mnome\u001b[0m\u001b[1;33m,\u001b[0m \u001b[0mmemoria\u001b[0m \u001b[1;33m=\u001b[0m \u001b[0musuario\u001b[0m\u001b[1;33m.\u001b[0m\u001b[0msplit\u001b[0m\u001b[1;33m(\u001b[0m\u001b[1;34m\" \"\u001b[0m\u001b[1;33m)\u001b[0m\u001b[1;33m\u001b[0m\u001b[1;33m\u001b[0m\u001b[0m\n",
      "\u001b[1;31mFileNotFoundError\u001b[0m: [Errno 2] No such file or directory: 'usuarios.txt'"
     ]
    }
   ],
   "source": [
    "def paraMb(tamanho):\n",
    "    return float(tamanho / (1024*1024))\n",
    "\n",
    "def usoMemoria(tamanho, total):\n",
    "    return float(tamanho / total) * 100\n",
    "\n",
    "dic = {}\n",
    "total = 0\n",
    "usuarios = open(\"usuarios.txt\")\n",
    "for usuario in usuarios:\n",
    "    nome, memoria = usuario.split(\" \")\n",
    "    dic[nome] = int(memoria)\n",
    "    total += int(memoria)\n",
    "usuarios.close()\n",
    "media = total / len(dic.keys())\n",
    "\n",
    "relatorio = open(\"relatório.txt\", \"w+\")\n",
    "relatorio.write(\"ACME Inc.               Uso do espaço em disco pelos usuários.\\n\")\n",
    "relatorio.write(\"--------------------------------------------------------------\\n\")\n",
    "relatorio.write(\"Nr.\\tUsuário \\tEspaço utilizado\\t% do uso\\n\")\n",
    "\n",
    "nr = 1\n",
    "for usuario in dic:\n",
    "    relatorio.write(str(nr) + \"\\t\" + usuario + \"\\t\" + \"{0:.2f}\".format(paraMb(dic[usuario])) + \" MB\\t\\t\" + \"{0:.2f}\".format(usoMemoria(dic[usuario], total)) + \"%\\n\")\n",
    "    nr += 1\n",
    "    \n",
    "\n",
    "relatorio.write(\"Espaço total ocupado: \" + \"{0:.2f}\".format(paraMb(total)) + \"\\n\")\n",
    "relatorio.write(\"Espaço médio ocupado: \" + \"{0:.2f}\".format(paraMb(media)))\n",
    "\n",
    "relatorio.close()"
   ]
  },
  {
   "cell_type": "code",
   "execution_count": null,
   "metadata": {},
   "outputs": [],
   "source": []
  }
 ],
 "metadata": {
  "kernelspec": {
   "display_name": "Python 3",
   "language": "python",
   "name": "python3"
  },
  "language_info": {
   "codemirror_mode": {
    "name": "ipython",
    "version": 3
   },
   "file_extension": ".py",
   "mimetype": "text/x-python",
   "name": "python",
   "nbconvert_exporter": "python",
   "pygments_lexer": "ipython3",
   "version": "3.7.1"
  }
 },
 "nbformat": 4,
 "nbformat_minor": 2
}
