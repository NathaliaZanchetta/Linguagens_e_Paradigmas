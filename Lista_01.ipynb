{
 "cells": [
  {
   "cell_type": "markdown",
   "metadata": {},
   "source": [
    "# Nathalia Zanchetta Nhoncance RA: 8162258212"
   ]
  },
  {
   "cell_type": "markdown",
   "metadata": {},
   "source": [
    "1) Faça um Programa que peça o raio de um círculo, calcule e mostre sua área."
   ]
  },
  {
   "cell_type": "code",
   "execution_count": 1,
   "metadata": {},
   "outputs": [
    {
     "name": "stdout",
     "output_type": "stream",
     "text": [
      "Digite o valor do raio: 20\n",
      "A area do circulo e: 1256.6368\n"
     ]
    }
   ],
   "source": [
    "pi = 3.141592\n",
    "raio = float(input(\"Digite o valor do raio: \"))\n",
    "print ('A area do circulo e:', float(pi*(raio**2)))"
   ]
  },
  {
   "cell_type": "markdown",
   "metadata": {},
   "source": [
    "2) Faça um Programa que calcule a área de um quadrado, em seguida mostre o dobro desta área para o usuário."
   ]
  },
  {
   "cell_type": "code",
   "execution_count": 2,
   "metadata": {},
   "outputs": [
    {
     "name": "stdout",
     "output_type": "stream",
     "text": [
      "Digite a altura : 6\n",
      "Digite a largura : 4\n",
      "O resultado final é : 48.0\n"
     ]
    }
   ],
   "source": [
    "altura = float(input(\"Digite a altura : \"))\n",
    "largura = float(input(\"Digite a largura : \"))\n",
    "\n",
    "area = altura*largura\n",
    "\n",
    "resultado = area*2\n",
    "\n",
    "print ('O resultado final é :',resultado)"
   ]
  },
  {
   "cell_type": "markdown",
   "metadata": {},
   "source": [
    "3) Faça um Programa que pergunte quanto você ganha por hora e o número de horas trabalhadas no mês. Calcule e mostre o total do seu salário no referido mês."
   ]
  },
  {
   "cell_type": "code",
   "execution_count": 3,
   "metadata": {},
   "outputs": [
    {
     "name": "stdout",
     "output_type": "stream",
     "text": [
      "Quanto você ganha por hora ? 10\n",
      "Qual a quantidade de horas por dia ? 6\n",
      "Quantos dias trabalhou no mês ? 25\n",
      "Total do salario por mês é :  1500.0\n"
     ]
    }
   ],
   "source": [
    "vSalario = float(input(\"Quanto você ganha por hora ? \"))\n",
    "qtdeHoras = float(input(\"Qual a quantidade de horas por dia ? \"))\n",
    "diasMes = int(input(\"Quantos dias trabalhou no mês ? \"))\n",
    "\n",
    "totalHoras = qtdeHoras*diasMes\n",
    "\n",
    "print('Total do salario por mês é : ', float(vSalario*totalHoras))"
   ]
  },
  {
   "cell_type": "markdown",
   "metadata": {},
   "source": [
    "4) Faça um Programa que peça a temperatura em graus Farenheit, transforme e mostre a temperatura em graus Celsius. C = (5 * (F-32) / 9)."
   ]
  },
  {
   "cell_type": "code",
   "execution_count": 4,
   "metadata": {},
   "outputs": [
    {
     "name": "stdout",
     "output_type": "stream",
     "text": [
      "Insira a temperatura em Farenheit : 35\n",
      "A temperatura F°  35  em Celsius é  0.3333333333333333\n"
     ]
    }
   ],
   "source": [
    "tFarenheit = int(input(\"Insira a temperatura em Farenheit : \"))\n",
    "\n",
    "tCelsius   = (tFarenheit - 32)/9\n",
    "\n",
    "print('A temperatura F° ', tFarenheit, ' em Celsius é ', tCelsius)"
   ]
  },
  {
   "cell_type": "markdown",
   "metadata": {},
   "source": [
    "5) Faça um Programa que peça a temperatura em graus Celsius, transforme e mostre em graus Farenheit."
   ]
  },
  {
   "cell_type": "code",
   "execution_count": 6,
   "metadata": {},
   "outputs": [
    {
     "name": "stdout",
     "output_type": "stream",
     "text": [
      "Insira a temperatura em Celsius : 55\n",
      "A temperatura C° 55  em tFarenheit é 131.0\n"
     ]
    }
   ],
   "source": [
    "tCelsius   = int(input(\"Insira a temperatura em Celsius : \"))\n",
    "tFarenheit = ((1.8*tCelsius)+32)\n",
    "\n",
    "print('A temperatura C°', tCelsius, ' em tFarenheit é', tFarenheit)"
   ]
  },
  {
   "cell_type": "markdown",
   "metadata": {},
   "source": [
    "6) Faça um Programa que peça 2 números inteiros e um número real. Calcule e mostre:\n",
    "- o produto do dobro do primeiro com metade do segundo .\n",
    "- a soma do triplo do primeiro com o terceiro.\n",
    "- o terceiro elevado ao cubo."
   ]
  },
  {
   "cell_type": "code",
   "execution_count": null,
   "metadata": {},
   "outputs": [],
   "source": [
    "inteiro1 = int(input(\"Insira um inteiro : \"))\n",
    "inteiro2 = int(input(\"Insira outro inteiro : \"))\n",
    "real     = int(input(\"Insira um real : \"))\n",
    "\n",
    "calculo1 = ((inteiro1*2) + (inteiro2/2))\n",
    "calculo2 = ((inteiro1*3) + real)\n",
    "calculo3 = (real**3)\n",
    "\n",
    "print('Resultado 1 :', calculo1, '\\nResultado 2 :', calculo2, ' \\nResultado 3 :', calculo3)"
   ]
  },
  {
   "cell_type": "markdown",
   "metadata": {},
   "source": [
    "7) João Papo-de-Pescador, homem de bem, comprou um microcomputador para controlar o rendimento diário de seu trabalho. Toda vez que ele traz um peso de peixes maior que o estabelecido pelo regulamento de pesca do estado de São Paulo (50 quilos) deve pagar uma multa de 4,00 por quilo excedente. João precisa que você faça um programa que leia a variável peso (peso de peixes) e verifique se há excesso. Se houver, gravar na variável excesso e na variável multa o valor da multa que João deverá pagar. Caso contrário mostrar tais variáveis com o conteúdo ZERO."
   ]
  },
  {
   "cell_type": "code",
   "execution_count": null,
   "metadata": {},
   "outputs": [],
   "source": [
    "kilos = float(input(\"Digite os Kilos\"))\n",
    "\n",
    "excesso   = 0\n",
    "qtdeMulta = 0\n",
    "vMulta    = 0\n",
    "\n",
    "if (kilos > 50):\n",
    "    \n",
    "    excesso   = kilos - 50\n",
    "    qtdeMulta = kilos - 50\n",
    "    vMulta    = qtdeMulta*4\n",
    "    \n",
    "print('Foi excedido', excesso, 'Kg')\n",
    "print('Quantidade de multas', qtdeMulta, '\\nValor Total', vMulta)"
   ]
  },
  {
   "cell_type": "markdown",
   "metadata": {},
   "source": [
    "8) Faça um Programa que pergunte quanto você ganha por hora e o número de horas trabalhadas no mês. Calcule e mostre o total do seu salário no referido mês, sabendo-se que são descontados 11% para o Imposto de Renda, 8% para o INSS e 5% para o sindicato, faça um programa que nos dê:\n",
    "- salário bruto.\n",
    "- quanto pagou ao INSS.\n",
    "- quanto pagou ao sindicato.\n",
    "- o salário líquido.\n",
    "- calcule os descontos e o salário líquido, conforme a tabela abaixo:\n",
    "+ Salário Bruto : R$\n",
    "- IR (11%) : R$\n",
    "- INSS (8%) : R$\n",
    "- Sindicato ( 5%) : R$\n",
    "= Salário Liquido : R$\n",
    "Obs.: Salário Bruto - Descontos = Salário Líquido."
   ]
  },
  {
   "cell_type": "code",
   "execution_count": null,
   "metadata": {},
   "outputs": [],
   "source": [
    "vSalario  = float(input(\"Quanto você ganha por hora ? \"))\n",
    "qtdeHoras = float(input(\"Quantas horas por dia ? \"))\n",
    "diasMes   = int(input(\"Quantos dias trabalhou no mês ? \"))\n",
    "\n",
    "totalHoras   = qtdeHoras*diasMes\n",
    "salarioBruto = vSalario*totalHoras\n",
    "\n",
    "ir        = salarioBruto*0.11\n",
    "inss      = salarioBruto*0.08\n",
    "sindicato = salarioBruto*0.05\n",
    "\n",
    "salarioLiquido = (((salarioBruto - ir) - inss) - sindicato)\n",
    "\n",
    "print('Salario Bruto : ', float(salarioBruto))\n",
    "print('IR :', float(ir), '\\nINSS :', float(inss), '\\nSindicato :', float(sindicato))\n",
    "print('Salario Liquido: ', float(salarioLiquido))"
   ]
  },
  {
   "cell_type": "markdown",
   "metadata": {},
   "source": [
    "9) Faça um programa que leia 2 strings e informe o conteúdo delas seguido do seu comprimento. Informe também se as duas strings possuem o mesmo comprimento e são iguais ou diferentes no conteúdo. Exemplo:\n",
    "- String 1: Brasil Hexa 2018\n",
    "- String 2: Brasil! Hexa 2018!\n",
    "- Tamanho de \"Brasil Hexa 2018\": 16 caracteres\n",
    "- Tamanho de \"Brasil! Hexa 2018!\": 18 caracteres\n",
    "- As duas strings são de tamanhos diferentes.\n",
    "- As duas strings possuem conteúdo diferente."
   ]
  },
  {
   "cell_type": "code",
   "execution_count": null,
   "metadata": {},
   "outputs": [],
   "source": [
    "String1 = \"Star Wars é melhor que Senhor dos Aneis\"\n",
    "String2 = \"Senhor dos aneis é a melhor saga já feita\"\n",
    "\n",
    "s1 = []\n",
    "s2 = []\n",
    "\n",
    "for letra in String1:\n",
    "    s1.append(letra)\n",
    "for letra in String2:\n",
    "    s2.append(letra)\n",
    "\n",
    "if(s1 == s2):\n",
    "    print(\"Sao iguais!\")\n",
    "else:\n",
    "    print(\"Sao diferentes!\")\n",
    "\n",
    "if (len(s1) == len(s2)):\n",
    "    print(\"Possuem o mesmo tamanho!\")\n",
    "else:\n",
    "    print(\"Nao possuem o mesmo tamanho!\")\n",
    "    \n",
    "print(String1)\n",
    "print(String2)"
   ]
  },
  {
   "cell_type": "markdown",
   "metadata": {},
   "source": [
    "10) Faça um programa que permita ao usuário digitar o seu nome e em seguida mostre o nome do usuário de trás para frente utilizando somente letras maiúsculas. Dica: lembre−se que ao informar o nome o usuário pode digitar letras maiúsculas ou minúsculas. Observação: não use loops."
   ]
  },
  {
   "cell_type": "code",
   "execution_count": 2,
   "metadata": {},
   "outputs": [
    {
     "name": "stdout",
     "output_type": "stream",
     "text": [
      "Escreva seu nome: nathalia\n",
      "AILAHTAN\n"
     ]
    }
   ],
   "source": [
    "nome = input(\"Escreva seu nome: \")\n",
    "\n",
    "nome = nome.upper()\n",
    "\n",
    "print(nome[::-1])"
   ]
  },
  {
   "cell_type": "markdown",
   "metadata": {},
   "source": [
    "11) Faça um programa que solicite a data de nascimento (dd/mm/aaaa) do usuário e imprima a data com o nome do mês por extenso. Data de Nascimento: 29/10/1973 Você nasceu em 29 de Outubro de 1973. Obs.: Não use desvio condicional nem loops."
   ]
  },
  {
   "cell_type": "code",
   "execution_count": 17,
   "metadata": {},
   "outputs": [
    {
     "name": "stdout",
     "output_type": "stream",
     "text": [
      "Insira sua data de aniversário (dd / mm / aaaa): 22/12/1998\n",
      "Data nascimento : 22 Dezembro 1998\n"
     ]
    }
   ],
   "source": [
    "aniver = input ( \"Insira sua data de aniversário (dd / mm / aaaa): \" )\n",
    "\n",
    "dia, mes, ano = aniver.split(\"/\")\n",
    "\n",
    "mes_ext = { 1: 'Janeiro'  ,\n",
    "            2: 'Fevereiro',\n",
    "            3: 'Março'    ,\n",
    "            4: 'Abril'    ,\n",
    "            5: 'Maio'     ,\n",
    "            6: 'Junho'    ,\n",
    "            7: 'Julho'    ,\n",
    "            8: 'Agosto'   ,\n",
    "            9: 'Setembro' ,\n",
    "           10: 'Outubro'  ,\n",
    "           11: 'Novembro' ,\n",
    "           12: 'Dezembro' }\n",
    "\n",
    "print ('Data nascimento :', dia, mes_ext[int(mes)], ano)\n"
   ]
  },
  {
   "cell_type": "markdown",
   "metadata": {},
   "source": [
    "12) Leet é uma forma de se escrever o alfabeto latino usando outros símbolos em lugar das letras, como números por exemplo. A própria palavra leet admite muitas variações, como l33t ou 1337. O uso do leet reflete uma subcultura relacionada ao mundo dos jogos de computador e internet, sendo muito usada para confundir os iniciantes e afirmar-se como parte de um grupo. Pesquise sobre as principais formas de traduzir as letras. Depois, faça um programa que peça uma texto e transforme-o para a grafia leet speak. Desafio: não use loops nem desvios condicionais"
   ]
  },
  {
   "cell_type": "code",
   "execution_count": 28,
   "metadata": {},
   "outputs": [
    {
     "name": "stdout",
     "output_type": "stream",
     "text": [
      "Frase a trauzir: nathalia\n",
      "Original : nathalia\n",
      "Tradução : n4th41i4\n"
     ]
    }
   ],
   "source": [
    "string = input(\"Frase a trauzir: \")\n",
    "\n",
    "def leet(text):\n",
    "    getchar = lambda c: chars[c] if c in chars else c\n",
    "    chars = {\"a\":\"4\",\"e\":\"3\",\"l\":\"1\",\"o\":\"0\",\"s\":\"5\"}\n",
    "    return ''.join(getchar(c) for c in text)\n",
    "\n",
    "print(\"Original :\", string)\n",
    "print(\"Tradução :\", leet(string))"
   ]
  }
 ],
 "metadata": {
  "kernelspec": {
   "display_name": "Python 3",
   "language": "python",
   "name": "python3"
  },
  "language_info": {
   "codemirror_mode": {
    "name": "ipython",
    "version": 3
   },
   "file_extension": ".py",
   "mimetype": "text/x-python",
   "name": "python",
   "nbconvert_exporter": "python",
   "pygments_lexer": "ipython3",
   "version": "3.7.1"
  }
 },
 "nbformat": 4,
 "nbformat_minor": 2
}
