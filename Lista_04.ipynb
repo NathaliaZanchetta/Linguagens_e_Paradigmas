{
 "cells": [
  {
   "cell_type": "markdown",
   "metadata": {},
   "source": [
    "# Nathalia Zanchetta Nhoncance RA: 8162258212"
   ]
  },
  {
   "cell_type": "markdown",
   "metadata": {},
   "source": [
    "1) Menor de dois pares: Escreva uma função que retorne o menor de dois números dados se ambos os números forem pares, mas retorna o maior se um dos dois for ímpar. Exemplo:\n",
    "\n",
    "menor_de_dois_pares(2,4) --> 2\n",
    "menor_de_dois_pares (2,5) --> 5"
   ]
  },
  {
   "cell_type": "code",
   "execution_count": 3,
   "metadata": {},
   "outputs": [
    {
     "name": "stdout",
     "output_type": "stream",
     "text": [
      "Primeiro Valor :5\n",
      "Segundo  Valor :7\n",
      "7\n"
     ]
    }
   ],
   "source": [
    "num1 = int(input(\"Primeiro Valor :\"))\n",
    "num2 = int(input(\"Segundo  Valor :\"))\n",
    "\n",
    "def menor_de_dois_pares(num1,num2):\n",
    "    if num1 % 2 == 0 and num2 % 2 == 0:\n",
    "        return min(num1,num2)\n",
    "    else:\n",
    "        return max(num1,num2)\n",
    "        \n",
    "print(menor_de_dois_pares(num1,num2))"
   ]
  },
  {
   "cell_type": "markdown",
   "metadata": {},
   "source": [
    "2) Mesma letra: Escreva uma função que receba uma string com duas palavras e retorne True se ambas palavras começarem com a mesma letra. Exemplo:\n",
    "\n",
    "mesma_letra('Cão covarde') -> True\n",
    "mesma_letra('Vira Lata') -> False"
   ]
  },
  {
   "cell_type": "code",
   "execution_count": 12,
   "metadata": {},
   "outputs": [
    {
     "name": "stdout",
     "output_type": "stream",
     "text": [
      "Digite duas palavras :gustavo nathalia\n",
      "False\n"
     ]
    }
   ],
   "source": [
    "frase = input(\"Digite duas palavras :\")\n",
    "\n",
    "def mesma_letra(frase):\n",
    "    palavras = frase.split(' ')\n",
    "    if palavras[0][0:1] == palavras[1][0:1]:\n",
    "        return True\n",
    "    else:\n",
    "        return False\n",
    "    \n",
    "print(mesma_letra(frase))"
   ]
  },
  {
   "cell_type": "markdown",
   "metadata": {},
   "source": [
    "3) Mestre Yoda: Dada uma sentença, a função deve retornar a sentença com as palavras na ordem reversa. Exemplo:\n",
    "\n",
    "mestre_yoda('Eu estou em casa') --> 'casa em estou Eu'\n",
    "mestre_yoda('Estamos prontos') --> 'prontos Estamos'"
   ]
  },
  {
   "cell_type": "code",
   "execution_count": 21,
   "metadata": {},
   "outputs": [
    {
     "name": "stdout",
     "output_type": "stream",
     "text": [
      "Digite uma frase :eu te adoro\n",
      "adoro te eu "
     ]
    }
   ],
   "source": [
    "frase = input(\"Digite uma frase :\")\n",
    "\n",
    "def mestre_yoda(arg):\n",
    "    for i in reversed(arg.split(' ')):\n",
    "        print(i, end = \" \")\n",
    "        \n",
    "mestre_yoda(frase)"
   ]
  },
  {
   "cell_type": "markdown",
   "metadata": {},
   "source": [
    "4) Tem 33: Faça uma função que retorne True se, dada uma lista de inteiros, houver em alguma posição da lista um 3 do lado de outro 3. Exemplo:\n",
    "\n",
    "tem_33([1,3,3]) --> True\n",
    "tem_33([1,3,1,3]) --> False\n",
    "tem_33([3,1,3]) --> False"
   ]
  },
  {
   "cell_type": "code",
   "execution_count": 35,
   "metadata": {},
   "outputs": [
    {
     "name": "stdout",
     "output_type": "stream",
     "text": [
      "Escola o tamanho da lista : 3\n",
      "Entre com os elementos : 3\n",
      "Entre com os elementos : 3\n",
      "Entre com os elementos : 1\n",
      "False\n"
     ]
    }
   ],
   "source": [
    "lista = [] \n",
    "tamanhoLista = int(input(\"Escola o tamanho da lista : \"))\n",
    "\n",
    "def tem_33(lista,tamanhoLista):\n",
    "    hasTres = False\n",
    "    for i in range(tamanhoLista):\n",
    "        elemento = int(input(\"Entre com os elementos : \"))\n",
    "        lista.append(elemento)\n",
    "        \n",
    "        if i == 3:\n",
    "            hasTres = True\n",
    "        else:\n",
    "            hasTres = False\n",
    "    print(hasTres)\n",
    "    \n",
    "tem_33(lista,tamanhoLista)"
   ]
  },
  {
   "cell_type": "markdown",
   "metadata": {},
   "source": [
    "5) Blackjack: Faça uma função que receba 3 inteiros entre 1 e 11. Se a soma deles for menor que 21, retorne o valor da soma. Se for mair do que 21 e houver um 11, subtraia 10 da soma antes de apresentar o resultado. Se o valor da soma passar de 21, retorne ‘ESTOUROU’. Exemplo:\n",
    "\n",
    "blackjack(5,6,7) --> 18\n",
    "blackjack(9,9,9) --> 'ESTOUROU'\n",
    "blackjack(9,9,11) --> 19"
   ]
  },
  {
   "cell_type": "code",
   "execution_count": 37,
   "metadata": {},
   "outputs": [
    {
     "name": "stdout",
     "output_type": "stream",
     "text": [
      "Valor 1 : 9\n",
      "Valor 1 : 9\n",
      "Valor 1 : 9\n"
     ]
    },
    {
     "data": {
      "text/plain": [
       "'ESTOROU'"
      ]
     },
     "execution_count": 37,
     "metadata": {},
     "output_type": "execute_result"
    }
   ],
   "source": [
    "num1 = int(input(\"Valor 1 : \"))\n",
    "num2 = int(input(\"Valor 1 : \"))\n",
    "num3 = int(input(\"Valor 1 : \"))\n",
    "\n",
    "def blackjack(num1, num2, num3):\n",
    "    soma = num1 + num2 + num3\n",
    "    if soma <= 21:\n",
    "        return soma\n",
    "    else:\n",
    "        if num1 == 11 or num2 == 11 or num3 == 11:\n",
    "            soma = soma - 10\n",
    "        if soma > 21:\n",
    "            return 'ESTOROU'\n",
    "        else:\n",
    "            return soma\n",
    "        \n",
    "blackjack(num1, num2, num3)  "
   ]
  },
  {
   "cell_type": "markdown",
   "metadata": {},
   "source": [
    "6) Espião: Escreva uma função que receba uma lista de inteiros e retorne True se contém um 007 em ordem, mesmo que não contínuo. Exemplo:\n",
    "\n",
    "espiao([1,2,4,0,0,7,5]) --> True\n",
    "espiao([1,0,2,4,0,5,7]) --> True\n",
    "espiao([1,7,2,4,0,5,0]) --> False"
   ]
  },
  {
   "cell_type": "code",
   "execution_count": null,
   "metadata": {},
   "outputs": [],
   "source": [
    "def espiao(arg):\n",
    "    zero1 = False\n",
    "    zero2 = False\n",
    "    sete = False\n",
    "    for i in arg:\n",
    "        if i == 0:\n",
    "            if sete is False:\n",
    "                if zero1 is False and zero2 is False:\n",
    "                    zero1 = True\n",
    "                elif zero1 is True and zero2 is False:\n",
    "                    zero2 = True\n",
    "                else:\n",
    "                    return False\n",
    "            else:\n",
    "                return False\n",
    "        elif i == 7:\n",
    "            if zero1 is True and zero2 is True:\n",
    "                return True\n",
    "            else:\n",
    "                return False\n",
    "            \n",
    "espiao([1,2,4,0,0,7,5])\n",
    "espiao([1,0,2,4,0,5,7])\n",
    "espiao([1,7,2,4,0,5,0])"
   ]
  }
 ],
 "metadata": {
  "kernelspec": {
   "display_name": "Python 3",
   "language": "python",
   "name": "python3"
  },
  "language_info": {
   "codemirror_mode": {
    "name": "ipython",
    "version": 3
   },
   "file_extension": ".py",
   "mimetype": "text/x-python",
   "name": "python",
   "nbconvert_exporter": "python",
   "pygments_lexer": "ipython3",
   "version": "3.7.1"
  }
 },
 "nbformat": 4,
 "nbformat_minor": 2
}
